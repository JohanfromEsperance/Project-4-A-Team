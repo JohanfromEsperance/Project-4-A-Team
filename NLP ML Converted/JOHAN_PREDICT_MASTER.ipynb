{
  "cells": [
    {
      "cell_type": "markdown",
      "id": "82112276",
      "metadata": {
        "id": "82112276",
        "papermill": {
          "duration": 0.032746,
          "end_time": "2021-09-29T16:34:36.658578",
          "exception": false,
          "start_time": "2021-09-29T16:34:36.625832",
          "status": "completed"
        },
        "tags": []
      },
      "source": [
        "# 1. Goal: Build a system to identify unreliable/fake news"
      ]
    },
    {
      "cell_type": "markdown",
      "id": "5d663fb8",
      "metadata": {
        "papermill": {
          "duration": 0.037271,
          "end_time": "2021-09-29T16:34:36.923882",
          "exception": false,
          "start_time": "2021-09-29T16:34:36.886611",
          "status": "completed"
        },
        "tags": [],
        "id": "5d663fb8"
      },
      "source": [
        "#### Dataset used - https://www.kaggle.com/c/fake-news/data\n",
        "\n",
        "### Dataset Description\n",
        "\n",
        "train.csv: A full training dataset with the following attributes:\n",
        "\n",
        "* id: unique id for a news article\n",
        "* title: the title of a news article\n",
        "* author: author of the news article\n",
        "* text: the text of the article; could be incomplete\n",
        "* label: a label that marks the article as potentially unreliable\n",
        "  * 1: unreliable\n",
        "  * 0: reliable\n",
        "\n",
        "test.csv: A testing training dataset with all the same attributes at train.csv without the label.\n",
        "\n",
        "submit.csv: A sample submission that you can use to submit your prediction results"
      ]
    },
    {
      "cell_type": "markdown",
      "id": "6221fbd6",
      "metadata": {
        "id": "6221fbd6",
        "papermill": {
          "duration": 0.036496,
          "end_time": "2021-09-29T16:34:36.996639",
          "exception": false,
          "start_time": "2021-09-29T16:34:36.960143",
          "status": "completed"
        },
        "tags": []
      },
      "source": [
        "# 2. Import required libraries"
      ]
    },
    {
      "cell_type": "code",
      "execution_count": 1,
      "id": "f628d6d5",
      "metadata": {
        "execution": {
          "iopub.execute_input": "2021-09-29T16:34:37.074690Z",
          "iopub.status.busy": "2021-09-29T16:34:37.074055Z",
          "iopub.status.idle": "2021-09-29T16:34:38.370322Z",
          "shell.execute_reply": "2021-09-29T16:34:38.369859Z",
          "shell.execute_reply.started": "2021-09-29T09:26:10.311769Z"
        },
        "id": "f628d6d5",
        "papermill": {
          "duration": 1.337485,
          "end_time": "2021-09-29T16:34:38.370446",
          "exception": false,
          "start_time": "2021-09-29T16:34:37.032961",
          "status": "completed"
        },
        "tags": []
      },
      "outputs": [],
      "source": [
        "import numpy as np\n",
        "import pandas as pd\n",
        "\n",
        "import matplotlib.pyplot as plt\n",
        "\n",
        "import re #Regular expressions \n",
        "import nltk #Natural Language Toolkit\n",
        "from nltk.corpus import stopwords\n",
        "from nltk.stem.porter import PorterStemmer\n",
        "\n",
        "from sklearn.feature_extraction.text import TfidfVectorizer\n",
        "from sklearn.model_selection import train_test_split\n",
        "from sklearn.linear_model import LogisticRegression\n",
        "from sklearn.metrics import accuracy_score\n",
        "from sklearn.metrics import classification_report\n",
        "from sklearn import metrics\n",
        "import itertools\n"
      ]
    },
    {
      "cell_type": "markdown",
      "id": "6d0206f0",
      "metadata": {
        "papermill": {
          "duration": 0.036014,
          "end_time": "2021-09-29T16:34:38.444385",
          "exception": false,
          "start_time": "2021-09-29T16:34:38.408371",
          "status": "completed"
        },
        "tags": [],
        "id": "6d0206f0"
      },
      "source": [
        "The Natural Language Toolkit (NLTK) is a platform used for building Python programs that work with human language data for applying in statistical natural language processing (NLP). It contains text processing libraries for tokenization, parsing, classification, stemming, tagging and semantic reasoning."
      ]
    },
    {
      "cell_type": "markdown",
      "id": "5610f89f",
      "metadata": {
        "papermill": {
          "duration": 0.036175,
          "end_time": "2021-09-29T16:34:38.516113",
          "exception": false,
          "start_time": "2021-09-29T16:34:38.479938",
          "status": "completed"
        },
        "tags": [],
        "id": "5610f89f"
      },
      "source": [
        "Stopwords are words which occur frequently in a corpus. e.g a, an, the, in. Frequently occurring words are removed from the corpus for the purpose of text-normalization."
      ]
    },
    {
      "cell_type": "code",
      "execution_count": 2,
      "id": "6bba3a8b",
      "metadata": {
        "execution": {
          "iopub.execute_input": "2021-09-29T16:34:38.603465Z",
          "iopub.status.busy": "2021-09-29T16:34:38.602831Z",
          "iopub.status.idle": "2021-09-29T16:34:38.721181Z",
          "shell.execute_reply": "2021-09-29T16:34:38.721582Z",
          "shell.execute_reply.started": "2021-09-29T09:26:22.603361Z"
        },
        "id": "6bba3a8b",
        "outputId": "77d71d25-6c96-446d-ac36-649305118494",
        "papermill": {
          "duration": 0.166621,
          "end_time": "2021-09-29T16:34:38.721726",
          "exception": false,
          "start_time": "2021-09-29T16:34:38.555105",
          "status": "completed"
        },
        "tags": [],
        "colab": {
          "base_uri": "https://localhost:8080/"
        }
      },
      "outputs": [
        {
          "output_type": "stream",
          "name": "stderr",
          "text": [
            "[nltk_data] Downloading package stopwords to /root/nltk_data...\n",
            "[nltk_data]   Unzipping corpora/stopwords.zip.\n"
          ]
        },
        {
          "output_type": "execute_result",
          "data": {
            "text/plain": [
              "True"
            ]
          },
          "metadata": {},
          "execution_count": 2
        }
      ],
      "source": [
        "nltk.download('stopwords')"
      ]
    },
    {
      "cell_type": "code",
      "execution_count": 3,
      "id": "0a92108c",
      "metadata": {
        "execution": {
          "iopub.execute_input": "2021-09-29T16:34:38.799137Z",
          "iopub.status.busy": "2021-09-29T16:34:38.798500Z",
          "iopub.status.idle": "2021-09-29T16:34:38.809658Z",
          "shell.execute_reply": "2021-09-29T16:34:38.810083Z",
          "shell.execute_reply.started": "2021-09-29T09:26:26.785564Z"
        },
        "id": "0a92108c",
        "outputId": "6554f57e-e46e-4e43-d260-0672fa30bb20",
        "papermill": {
          "duration": 0.051875,
          "end_time": "2021-09-29T16:34:38.810221",
          "exception": false,
          "start_time": "2021-09-29T16:34:38.758346",
          "status": "completed"
        },
        "tags": [],
        "colab": {
          "base_uri": "https://localhost:8080/"
        }
      },
      "outputs": [
        {
          "output_type": "stream",
          "name": "stdout",
          "text": [
            "['i', 'me', 'my', 'myself', 'we', 'our', 'ours', 'ourselves', 'you', \"you're\", \"you've\", \"you'll\", \"you'd\", 'your', 'yours', 'yourself', 'yourselves', 'he', 'him', 'his', 'himself', 'she', \"she's\", 'her', 'hers', 'herself', 'it', \"it's\", 'its', 'itself', 'they', 'them', 'their', 'theirs', 'themselves', 'what', 'which', 'who', 'whom', 'this', 'that', \"that'll\", 'these', 'those', 'am', 'is', 'are', 'was', 'were', 'be', 'been', 'being', 'have', 'has', 'had', 'having', 'do', 'does', 'did', 'doing', 'a', 'an', 'the', 'and', 'but', 'if', 'or', 'because', 'as', 'until', 'while', 'of', 'at', 'by', 'for', 'with', 'about', 'against', 'between', 'into', 'through', 'during', 'before', 'after', 'above', 'below', 'to', 'from', 'up', 'down', 'in', 'out', 'on', 'off', 'over', 'under', 'again', 'further', 'then', 'once', 'here', 'there', 'when', 'where', 'why', 'how', 'all', 'any', 'both', 'each', 'few', 'more', 'most', 'other', 'some', 'such', 'no', 'nor', 'not', 'only', 'own', 'same', 'so', 'than', 'too', 'very', 's', 't', 'can', 'will', 'just', 'don', \"don't\", 'should', \"should've\", 'now', 'd', 'll', 'm', 'o', 're', 've', 'y', 'ain', 'aren', \"aren't\", 'couldn', \"couldn't\", 'didn', \"didn't\", 'doesn', \"doesn't\", 'hadn', \"hadn't\", 'hasn', \"hasn't\", 'haven', \"haven't\", 'isn', \"isn't\", 'ma', 'mightn', \"mightn't\", 'mustn', \"mustn't\", 'needn', \"needn't\", 'shan', \"shan't\", 'shouldn', \"shouldn't\", 'wasn', \"wasn't\", 'weren', \"weren't\", 'won', \"won't\", 'wouldn', \"wouldn't\"]\n"
          ]
        }
      ],
      "source": [
        "# Printing the stopwords in English\n",
        "# We will have to remove these from the corpus during our analysis and pre-processing\n",
        "print(stopwords.words('english'))"
      ]
    },
    {
      "cell_type": "markdown",
      "id": "79673b36",
      "metadata": {
        "id": "79673b36",
        "papermill": {
          "duration": 0.037282,
          "end_time": "2021-09-29T16:34:38.884871",
          "exception": false,
          "start_time": "2021-09-29T16:34:38.847589",
          "status": "completed"
        },
        "tags": []
      },
      "source": [
        "# 3. Data Pre-processing and Analysis\n"
      ]
    },
    {
      "cell_type": "markdown",
      "id": "3f1ac583",
      "metadata": {
        "papermill": {
          "duration": 0.039008,
          "end_time": "2021-09-29T16:34:39.058498",
          "exception": false,
          "start_time": "2021-09-29T16:34:39.019490",
          "status": "completed"
        },
        "tags": [],
        "id": "3f1ac583"
      },
      "source": [
        "## 3.1 Load the dataset, Read and Parse Text"
      ]
    },
    {
      "cell_type": "code",
      "execution_count": 7,
      "id": "04156c39",
      "metadata": {
        "execution": {
          "iopub.execute_input": "2021-09-29T16:34:39.140858Z",
          "iopub.status.busy": "2021-09-29T16:34:39.140329Z",
          "iopub.status.idle": "2021-09-29T16:34:41.727710Z",
          "shell.execute_reply": "2021-09-29T16:34:41.727193Z",
          "shell.execute_reply.started": "2021-09-29T09:26:32.554421Z"
        },
        "id": "04156c39",
        "papermill": {
          "duration": 2.630393,
          "end_time": "2021-09-29T16:34:41.727851",
          "exception": false,
          "start_time": "2021-09-29T16:34:39.097458",
          "status": "completed"
        },
        "tags": []
      },
      "outputs": [],
      "source": [
        "# First let's load the dataset\n",
        "news_dataset = pd.read_csv('train.csv')"
      ]
    },
    {
      "cell_type": "code",
      "execution_count": 8,
      "id": "6db68bf1",
      "metadata": {
        "execution": {
          "iopub.execute_input": "2021-09-29T16:34:41.822571Z",
          "iopub.status.busy": "2021-09-29T16:34:41.821852Z",
          "iopub.status.idle": "2021-09-29T16:34:41.836316Z",
          "shell.execute_reply": "2021-09-29T16:34:41.835917Z",
          "shell.execute_reply.started": "2021-09-29T09:26:35.870778Z"
        },
        "id": "6db68bf1",
        "outputId": "2dd13b7d-56aa-47a5-ae30-8c03f908191f",
        "papermill": {
          "duration": 0.066258,
          "end_time": "2021-09-29T16:34:41.836427",
          "exception": false,
          "start_time": "2021-09-29T16:34:41.770169",
          "status": "completed"
        },
        "tags": [],
        "colab": {
          "base_uri": "https://localhost:8080/",
          "height": 206
        }
      },
      "outputs": [
        {
          "output_type": "execute_result",
          "data": {
            "text/plain": [
              "   id                                              title              author  \\\n",
              "0   0  House Dem Aide: We Didn’t Even See Comey’s Let...       Darrell Lucus   \n",
              "1   1  FLYNN: Hillary Clinton, Big Woman on Campus - ...     Daniel J. Flynn   \n",
              "2   2                  Why the Truth Might Get You Fired  Consortiumnews.com   \n",
              "3   3  15 Civilians Killed In Single US Airstrike Hav...     Jessica Purkiss   \n",
              "4   4  Iranian woman jailed for fictional unpublished...      Howard Portnoy   \n",
              "\n",
              "                                                text  label  \n",
              "0  House Dem Aide: We Didn’t Even See Comey’s Let...      1  \n",
              "1  Ever get the feeling your life circles the rou...      0  \n",
              "2  Why the Truth Might Get You Fired October 29, ...      1  \n",
              "3  Videos 15 Civilians Killed In Single US Airstr...      1  \n",
              "4  Print \\nAn Iranian woman has been sentenced to...      1  "
            ],
            "text/html": [
              "\n",
              "  <div id=\"df-85e3bb83-4929-4904-a345-40ad5e6ab179\">\n",
              "    <div class=\"colab-df-container\">\n",
              "      <div>\n",
              "<style scoped>\n",
              "    .dataframe tbody tr th:only-of-type {\n",
              "        vertical-align: middle;\n",
              "    }\n",
              "\n",
              "    .dataframe tbody tr th {\n",
              "        vertical-align: top;\n",
              "    }\n",
              "\n",
              "    .dataframe thead th {\n",
              "        text-align: right;\n",
              "    }\n",
              "</style>\n",
              "<table border=\"1\" class=\"dataframe\">\n",
              "  <thead>\n",
              "    <tr style=\"text-align: right;\">\n",
              "      <th></th>\n",
              "      <th>id</th>\n",
              "      <th>title</th>\n",
              "      <th>author</th>\n",
              "      <th>text</th>\n",
              "      <th>label</th>\n",
              "    </tr>\n",
              "  </thead>\n",
              "  <tbody>\n",
              "    <tr>\n",
              "      <th>0</th>\n",
              "      <td>0</td>\n",
              "      <td>House Dem Aide: We Didn’t Even See Comey’s Let...</td>\n",
              "      <td>Darrell Lucus</td>\n",
              "      <td>House Dem Aide: We Didn’t Even See Comey’s Let...</td>\n",
              "      <td>1</td>\n",
              "    </tr>\n",
              "    <tr>\n",
              "      <th>1</th>\n",
              "      <td>1</td>\n",
              "      <td>FLYNN: Hillary Clinton, Big Woman on Campus - ...</td>\n",
              "      <td>Daniel J. Flynn</td>\n",
              "      <td>Ever get the feeling your life circles the rou...</td>\n",
              "      <td>0</td>\n",
              "    </tr>\n",
              "    <tr>\n",
              "      <th>2</th>\n",
              "      <td>2</td>\n",
              "      <td>Why the Truth Might Get You Fired</td>\n",
              "      <td>Consortiumnews.com</td>\n",
              "      <td>Why the Truth Might Get You Fired October 29, ...</td>\n",
              "      <td>1</td>\n",
              "    </tr>\n",
              "    <tr>\n",
              "      <th>3</th>\n",
              "      <td>3</td>\n",
              "      <td>15 Civilians Killed In Single US Airstrike Hav...</td>\n",
              "      <td>Jessica Purkiss</td>\n",
              "      <td>Videos 15 Civilians Killed In Single US Airstr...</td>\n",
              "      <td>1</td>\n",
              "    </tr>\n",
              "    <tr>\n",
              "      <th>4</th>\n",
              "      <td>4</td>\n",
              "      <td>Iranian woman jailed for fictional unpublished...</td>\n",
              "      <td>Howard Portnoy</td>\n",
              "      <td>Print \\nAn Iranian woman has been sentenced to...</td>\n",
              "      <td>1</td>\n",
              "    </tr>\n",
              "  </tbody>\n",
              "</table>\n",
              "</div>\n",
              "      <button class=\"colab-df-convert\" onclick=\"convertToInteractive('df-85e3bb83-4929-4904-a345-40ad5e6ab179')\"\n",
              "              title=\"Convert this dataframe to an interactive table.\"\n",
              "              style=\"display:none;\">\n",
              "        \n",
              "  <svg xmlns=\"http://www.w3.org/2000/svg\" height=\"24px\"viewBox=\"0 0 24 24\"\n",
              "       width=\"24px\">\n",
              "    <path d=\"M0 0h24v24H0V0z\" fill=\"none\"/>\n",
              "    <path d=\"M18.56 5.44l.94 2.06.94-2.06 2.06-.94-2.06-.94-.94-2.06-.94 2.06-2.06.94zm-11 1L8.5 8.5l.94-2.06 2.06-.94-2.06-.94L8.5 2.5l-.94 2.06-2.06.94zm10 10l.94 2.06.94-2.06 2.06-.94-2.06-.94-.94-2.06-.94 2.06-2.06.94z\"/><path d=\"M17.41 7.96l-1.37-1.37c-.4-.4-.92-.59-1.43-.59-.52 0-1.04.2-1.43.59L10.3 9.45l-7.72 7.72c-.78.78-.78 2.05 0 2.83L4 21.41c.39.39.9.59 1.41.59.51 0 1.02-.2 1.41-.59l7.78-7.78 2.81-2.81c.8-.78.8-2.07 0-2.86zM5.41 20L4 18.59l7.72-7.72 1.47 1.35L5.41 20z\"/>\n",
              "  </svg>\n",
              "      </button>\n",
              "      \n",
              "  <style>\n",
              "    .colab-df-container {\n",
              "      display:flex;\n",
              "      flex-wrap:wrap;\n",
              "      gap: 12px;\n",
              "    }\n",
              "\n",
              "    .colab-df-convert {\n",
              "      background-color: #E8F0FE;\n",
              "      border: none;\n",
              "      border-radius: 50%;\n",
              "      cursor: pointer;\n",
              "      display: none;\n",
              "      fill: #1967D2;\n",
              "      height: 32px;\n",
              "      padding: 0 0 0 0;\n",
              "      width: 32px;\n",
              "    }\n",
              "\n",
              "    .colab-df-convert:hover {\n",
              "      background-color: #E2EBFA;\n",
              "      box-shadow: 0px 1px 2px rgba(60, 64, 67, 0.3), 0px 1px 3px 1px rgba(60, 64, 67, 0.15);\n",
              "      fill: #174EA6;\n",
              "    }\n",
              "\n",
              "    [theme=dark] .colab-df-convert {\n",
              "      background-color: #3B4455;\n",
              "      fill: #D2E3FC;\n",
              "    }\n",
              "\n",
              "    [theme=dark] .colab-df-convert:hover {\n",
              "      background-color: #434B5C;\n",
              "      box-shadow: 0px 1px 3px 1px rgba(0, 0, 0, 0.15);\n",
              "      filter: drop-shadow(0px 1px 2px rgba(0, 0, 0, 0.3));\n",
              "      fill: #FFFFFF;\n",
              "    }\n",
              "  </style>\n",
              "\n",
              "      <script>\n",
              "        const buttonEl =\n",
              "          document.querySelector('#df-85e3bb83-4929-4904-a345-40ad5e6ab179 button.colab-df-convert');\n",
              "        buttonEl.style.display =\n",
              "          google.colab.kernel.accessAllowed ? 'block' : 'none';\n",
              "\n",
              "        async function convertToInteractive(key) {\n",
              "          const element = document.querySelector('#df-85e3bb83-4929-4904-a345-40ad5e6ab179');\n",
              "          const dataTable =\n",
              "            await google.colab.kernel.invokeFunction('convertToInteractive',\n",
              "                                                     [key], {});\n",
              "          if (!dataTable) return;\n",
              "\n",
              "          const docLinkHtml = 'Like what you see? Visit the ' +\n",
              "            '<a target=\"_blank\" href=https://colab.research.google.com/notebooks/data_table.ipynb>data table notebook</a>'\n",
              "            + ' to learn more about interactive tables.';\n",
              "          element.innerHTML = '';\n",
              "          dataTable['output_type'] = 'display_data';\n",
              "          await google.colab.output.renderOutput(dataTable, element);\n",
              "          const docLink = document.createElement('div');\n",
              "          docLink.innerHTML = docLinkHtml;\n",
              "          element.appendChild(docLink);\n",
              "        }\n",
              "      </script>\n",
              "    </div>\n",
              "  </div>\n",
              "  "
            ]
          },
          "metadata": {},
          "execution_count": 8
        }
      ],
      "source": [
        "news_dataset.head()"
      ]
    },
    {
      "cell_type": "code",
      "execution_count": 9,
      "id": "f1d24169",
      "metadata": {
        "execution": {
          "iopub.execute_input": "2021-09-29T16:34:41.922652Z",
          "iopub.status.busy": "2021-09-29T16:34:41.921882Z",
          "iopub.status.idle": "2021-09-29T16:34:41.924812Z",
          "shell.execute_reply": "2021-09-29T16:34:41.925220Z",
          "shell.execute_reply.started": "2021-09-29T09:26:37.320442Z"
        },
        "id": "f1d24169",
        "outputId": "2b31c3bd-58d5-4081-b065-ee33695ae983",
        "papermill": {
          "duration": 0.048238,
          "end_time": "2021-09-29T16:34:41.925347",
          "exception": false,
          "start_time": "2021-09-29T16:34:41.877109",
          "status": "completed"
        },
        "tags": [],
        "colab": {
          "base_uri": "https://localhost:8080/"
        }
      },
      "outputs": [
        {
          "output_type": "execute_result",
          "data": {
            "text/plain": [
              "(20800, 5)"
            ]
          },
          "metadata": {},
          "execution_count": 9
        }
      ],
      "source": [
        "news_dataset.shape"
      ]
    },
    {
      "cell_type": "code",
      "execution_count": 10,
      "id": "3d38f612",
      "metadata": {
        "execution": {
          "iopub.execute_input": "2021-09-29T16:34:42.019333Z",
          "iopub.status.busy": "2021-09-29T16:34:42.017638Z",
          "iopub.status.idle": "2021-09-29T16:34:42.026189Z",
          "shell.execute_reply": "2021-09-29T16:34:42.026597Z",
          "shell.execute_reply.started": "2021-09-29T09:26:39.485308Z"
        },
        "id": "3d38f612",
        "outputId": "b722b5b3-1fc7-4bd1-ab0e-98a3b4f92b51",
        "papermill": {
          "duration": 0.060616,
          "end_time": "2021-09-29T16:34:42.026730",
          "exception": false,
          "start_time": "2021-09-29T16:34:41.966114",
          "status": "completed"
        },
        "tags": [],
        "colab": {
          "base_uri": "https://localhost:8080/"
        }
      },
      "outputs": [
        {
          "output_type": "execute_result",
          "data": {
            "text/plain": [
              "id           0\n",
              "title      558\n",
              "author    1957\n",
              "text        39\n",
              "label        0\n",
              "dtype: int64"
            ]
          },
          "metadata": {},
          "execution_count": 10
        }
      ],
      "source": [
        "# Checking for missing values\n",
        "news_dataset.isnull().sum()"
      ]
    },
    {
      "cell_type": "code",
      "execution_count": 11,
      "id": "d95f9736",
      "metadata": {
        "execution": {
          "iopub.execute_input": "2021-09-29T16:34:42.121903Z",
          "iopub.status.busy": "2021-09-29T16:34:42.113616Z",
          "iopub.status.idle": "2021-09-29T16:34:42.126403Z",
          "shell.execute_reply": "2021-09-29T16:34:42.125973Z",
          "shell.execute_reply.started": "2021-09-29T09:26:43.657976Z"
        },
        "id": "d95f9736",
        "papermill": {
          "duration": 0.057693,
          "end_time": "2021-09-29T16:34:42.126507",
          "exception": false,
          "start_time": "2021-09-29T16:34:42.068814",
          "status": "completed"
        },
        "tags": []
      },
      "outputs": [],
      "source": [
        "# Let's replace the missing values with empty strings wherever possible\n",
        "news_dataset = news_dataset.fillna('')"
      ]
    },
    {
      "cell_type": "code",
      "execution_count": 12,
      "id": "5d5f40bf",
      "metadata": {
        "execution": {
          "iopub.execute_input": "2021-09-29T16:34:42.223179Z",
          "iopub.status.busy": "2021-09-29T16:34:42.222486Z",
          "iopub.status.idle": "2021-09-29T16:34:42.225217Z",
          "shell.execute_reply": "2021-09-29T16:34:42.225637Z",
          "shell.execute_reply.started": "2021-09-29T09:26:47.160291Z"
        },
        "id": "5d5f40bf",
        "outputId": "e8b6f787-0b55-4c8b-8148-01704e7ee1bb",
        "papermill": {
          "duration": 0.05799,
          "end_time": "2021-09-29T16:34:42.225763",
          "exception": false,
          "start_time": "2021-09-29T16:34:42.167773",
          "status": "completed"
        },
        "tags": [],
        "colab": {
          "base_uri": "https://localhost:8080/"
        }
      },
      "outputs": [
        {
          "output_type": "execute_result",
          "data": {
            "text/plain": [
              "id        0\n",
              "title     0\n",
              "author    0\n",
              "text      0\n",
              "label     0\n",
              "dtype: int64"
            ]
          },
          "metadata": {},
          "execution_count": 12
        }
      ],
      "source": [
        "news_dataset.isnull().sum()"
      ]
    },
    {
      "cell_type": "code",
      "execution_count": 13,
      "id": "aba665b0",
      "metadata": {
        "execution": {
          "iopub.execute_input": "2021-09-29T16:34:42.314797Z",
          "iopub.status.busy": "2021-09-29T16:34:42.312289Z",
          "iopub.status.idle": "2021-09-29T16:34:42.465764Z",
          "shell.execute_reply": "2021-09-29T16:34:42.465276Z",
          "shell.execute_reply.started": "2021-09-29T09:26:49.452922Z"
        },
        "id": "aba665b0",
        "papermill": {
          "duration": 0.199107,
          "end_time": "2021-09-29T16:34:42.465896",
          "exception": false,
          "start_time": "2021-09-29T16:34:42.266789",
          "status": "completed"
        },
        "tags": []
      },
      "outputs": [],
      "source": [
        "# We will use all text fields such as Title, Author & text description to train our model \n",
        "# to help predict if it is real or unreliable news\n",
        "news_dataset['text_corpus'] = news_dataset['author']+' '+news_dataset['title']+' '+news_dataset['text']"
      ]
    },
    {
      "cell_type": "code",
      "execution_count": 14,
      "id": "2eeb4408",
      "metadata": {
        "execution": {
          "iopub.execute_input": "2021-09-29T16:34:42.556130Z",
          "iopub.status.busy": "2021-09-29T16:34:42.555337Z",
          "iopub.status.idle": "2021-09-29T16:34:42.558698Z",
          "shell.execute_reply": "2021-09-29T16:34:42.559381Z",
          "shell.execute_reply.started": "2021-09-29T09:26:51.494759Z"
        },
        "id": "2eeb4408",
        "outputId": "d445fb0a-8498-468d-c637-2a3f2e899a43",
        "papermill": {
          "duration": 0.051698,
          "end_time": "2021-09-29T16:34:42.559580",
          "exception": false,
          "start_time": "2021-09-29T16:34:42.507882",
          "status": "completed"
        },
        "tags": [],
        "colab": {
          "base_uri": "https://localhost:8080/"
        }
      },
      "outputs": [
        {
          "output_type": "stream",
          "name": "stdout",
          "text": [
            "0        Darrell Lucus House Dem Aide: We Didn’t Even S...\n",
            "1        Daniel J. Flynn FLYNN: Hillary Clinton, Big Wo...\n",
            "2        Consortiumnews.com Why the Truth Might Get You...\n",
            "3        Jessica Purkiss 15 Civilians Killed In Single ...\n",
            "4        Howard Portnoy Iranian woman jailed for fictio...\n",
            "                               ...                        \n",
            "20795    Jerome Hudson Rapper T.I.: Trump a ’Poster Chi...\n",
            "20796    Benjamin Hoffman N.F.L. Playoffs: Schedule, Ma...\n",
            "20797    Michael J. de la Merced and Rachel Abrams Macy...\n",
            "20798    Alex Ansary NATO, Russia To Hold Parallel Exer...\n",
            "20799    David Swanson What Keeps the F-35 Alive   Davi...\n",
            "Name: text_corpus, Length: 20800, dtype: object\n"
          ]
        }
      ],
      "source": [
        "print(news_dataset['text_corpus'])"
      ]
    },
    {
      "cell_type": "code",
      "execution_count": 15,
      "id": "77582ef7",
      "metadata": {
        "execution": {
          "iopub.execute_input": "2021-09-29T16:34:42.655661Z",
          "iopub.status.busy": "2021-09-29T16:34:42.647310Z",
          "iopub.status.idle": "2021-09-29T16:34:42.658243Z",
          "shell.execute_reply": "2021-09-29T16:34:42.658672Z",
          "shell.execute_reply.started": "2021-09-29T09:26:53.008053Z"
        },
        "id": "77582ef7",
        "outputId": "eda89fc1-ca3c-491d-b4be-6e465177a7cd",
        "papermill": {
          "duration": 0.056007,
          "end_time": "2021-09-29T16:34:42.658798",
          "exception": false,
          "start_time": "2021-09-29T16:34:42.602791",
          "status": "completed"
        },
        "tags": [],
        "colab": {
          "base_uri": "https://localhost:8080/",
          "height": 206
        }
      },
      "outputs": [
        {
          "output_type": "execute_result",
          "data": {
            "text/plain": [
              "   id                                              title              author  \\\n",
              "0   0  House Dem Aide: We Didn’t Even See Comey’s Let...       Darrell Lucus   \n",
              "1   1  FLYNN: Hillary Clinton, Big Woman on Campus - ...     Daniel J. Flynn   \n",
              "2   2                  Why the Truth Might Get You Fired  Consortiumnews.com   \n",
              "3   3  15 Civilians Killed In Single US Airstrike Hav...     Jessica Purkiss   \n",
              "4   4  Iranian woman jailed for fictional unpublished...      Howard Portnoy   \n",
              "\n",
              "                                                text  label  \\\n",
              "0  House Dem Aide: We Didn’t Even See Comey’s Let...      1   \n",
              "1  Ever get the feeling your life circles the rou...      0   \n",
              "2  Why the Truth Might Get You Fired October 29, ...      1   \n",
              "3  Videos 15 Civilians Killed In Single US Airstr...      1   \n",
              "4  Print \\nAn Iranian woman has been sentenced to...      1   \n",
              "\n",
              "                                         text_corpus  \n",
              "0  Darrell Lucus House Dem Aide: We Didn’t Even S...  \n",
              "1  Daniel J. Flynn FLYNN: Hillary Clinton, Big Wo...  \n",
              "2  Consortiumnews.com Why the Truth Might Get You...  \n",
              "3  Jessica Purkiss 15 Civilians Killed In Single ...  \n",
              "4  Howard Portnoy Iranian woman jailed for fictio...  "
            ],
            "text/html": [
              "\n",
              "  <div id=\"df-7601e17f-e6e9-4cc9-8d7d-2193f771187c\">\n",
              "    <div class=\"colab-df-container\">\n",
              "      <div>\n",
              "<style scoped>\n",
              "    .dataframe tbody tr th:only-of-type {\n",
              "        vertical-align: middle;\n",
              "    }\n",
              "\n",
              "    .dataframe tbody tr th {\n",
              "        vertical-align: top;\n",
              "    }\n",
              "\n",
              "    .dataframe thead th {\n",
              "        text-align: right;\n",
              "    }\n",
              "</style>\n",
              "<table border=\"1\" class=\"dataframe\">\n",
              "  <thead>\n",
              "    <tr style=\"text-align: right;\">\n",
              "      <th></th>\n",
              "      <th>id</th>\n",
              "      <th>title</th>\n",
              "      <th>author</th>\n",
              "      <th>text</th>\n",
              "      <th>label</th>\n",
              "      <th>text_corpus</th>\n",
              "    </tr>\n",
              "  </thead>\n",
              "  <tbody>\n",
              "    <tr>\n",
              "      <th>0</th>\n",
              "      <td>0</td>\n",
              "      <td>House Dem Aide: We Didn’t Even See Comey’s Let...</td>\n",
              "      <td>Darrell Lucus</td>\n",
              "      <td>House Dem Aide: We Didn’t Even See Comey’s Let...</td>\n",
              "      <td>1</td>\n",
              "      <td>Darrell Lucus House Dem Aide: We Didn’t Even S...</td>\n",
              "    </tr>\n",
              "    <tr>\n",
              "      <th>1</th>\n",
              "      <td>1</td>\n",
              "      <td>FLYNN: Hillary Clinton, Big Woman on Campus - ...</td>\n",
              "      <td>Daniel J. Flynn</td>\n",
              "      <td>Ever get the feeling your life circles the rou...</td>\n",
              "      <td>0</td>\n",
              "      <td>Daniel J. Flynn FLYNN: Hillary Clinton, Big Wo...</td>\n",
              "    </tr>\n",
              "    <tr>\n",
              "      <th>2</th>\n",
              "      <td>2</td>\n",
              "      <td>Why the Truth Might Get You Fired</td>\n",
              "      <td>Consortiumnews.com</td>\n",
              "      <td>Why the Truth Might Get You Fired October 29, ...</td>\n",
              "      <td>1</td>\n",
              "      <td>Consortiumnews.com Why the Truth Might Get You...</td>\n",
              "    </tr>\n",
              "    <tr>\n",
              "      <th>3</th>\n",
              "      <td>3</td>\n",
              "      <td>15 Civilians Killed In Single US Airstrike Hav...</td>\n",
              "      <td>Jessica Purkiss</td>\n",
              "      <td>Videos 15 Civilians Killed In Single US Airstr...</td>\n",
              "      <td>1</td>\n",
              "      <td>Jessica Purkiss 15 Civilians Killed In Single ...</td>\n",
              "    </tr>\n",
              "    <tr>\n",
              "      <th>4</th>\n",
              "      <td>4</td>\n",
              "      <td>Iranian woman jailed for fictional unpublished...</td>\n",
              "      <td>Howard Portnoy</td>\n",
              "      <td>Print \\nAn Iranian woman has been sentenced to...</td>\n",
              "      <td>1</td>\n",
              "      <td>Howard Portnoy Iranian woman jailed for fictio...</td>\n",
              "    </tr>\n",
              "  </tbody>\n",
              "</table>\n",
              "</div>\n",
              "      <button class=\"colab-df-convert\" onclick=\"convertToInteractive('df-7601e17f-e6e9-4cc9-8d7d-2193f771187c')\"\n",
              "              title=\"Convert this dataframe to an interactive table.\"\n",
              "              style=\"display:none;\">\n",
              "        \n",
              "  <svg xmlns=\"http://www.w3.org/2000/svg\" height=\"24px\"viewBox=\"0 0 24 24\"\n",
              "       width=\"24px\">\n",
              "    <path d=\"M0 0h24v24H0V0z\" fill=\"none\"/>\n",
              "    <path d=\"M18.56 5.44l.94 2.06.94-2.06 2.06-.94-2.06-.94-.94-2.06-.94 2.06-2.06.94zm-11 1L8.5 8.5l.94-2.06 2.06-.94-2.06-.94L8.5 2.5l-.94 2.06-2.06.94zm10 10l.94 2.06.94-2.06 2.06-.94-2.06-.94-.94-2.06-.94 2.06-2.06.94z\"/><path d=\"M17.41 7.96l-1.37-1.37c-.4-.4-.92-.59-1.43-.59-.52 0-1.04.2-1.43.59L10.3 9.45l-7.72 7.72c-.78.78-.78 2.05 0 2.83L4 21.41c.39.39.9.59 1.41.59.51 0 1.02-.2 1.41-.59l7.78-7.78 2.81-2.81c.8-.78.8-2.07 0-2.86zM5.41 20L4 18.59l7.72-7.72 1.47 1.35L5.41 20z\"/>\n",
              "  </svg>\n",
              "      </button>\n",
              "      \n",
              "  <style>\n",
              "    .colab-df-container {\n",
              "      display:flex;\n",
              "      flex-wrap:wrap;\n",
              "      gap: 12px;\n",
              "    }\n",
              "\n",
              "    .colab-df-convert {\n",
              "      background-color: #E8F0FE;\n",
              "      border: none;\n",
              "      border-radius: 50%;\n",
              "      cursor: pointer;\n",
              "      display: none;\n",
              "      fill: #1967D2;\n",
              "      height: 32px;\n",
              "      padding: 0 0 0 0;\n",
              "      width: 32px;\n",
              "    }\n",
              "\n",
              "    .colab-df-convert:hover {\n",
              "      background-color: #E2EBFA;\n",
              "      box-shadow: 0px 1px 2px rgba(60, 64, 67, 0.3), 0px 1px 3px 1px rgba(60, 64, 67, 0.15);\n",
              "      fill: #174EA6;\n",
              "    }\n",
              "\n",
              "    [theme=dark] .colab-df-convert {\n",
              "      background-color: #3B4455;\n",
              "      fill: #D2E3FC;\n",
              "    }\n",
              "\n",
              "    [theme=dark] .colab-df-convert:hover {\n",
              "      background-color: #434B5C;\n",
              "      box-shadow: 0px 1px 3px 1px rgba(0, 0, 0, 0.15);\n",
              "      filter: drop-shadow(0px 1px 2px rgba(0, 0, 0, 0.3));\n",
              "      fill: #FFFFFF;\n",
              "    }\n",
              "  </style>\n",
              "\n",
              "      <script>\n",
              "        const buttonEl =\n",
              "          document.querySelector('#df-7601e17f-e6e9-4cc9-8d7d-2193f771187c button.colab-df-convert');\n",
              "        buttonEl.style.display =\n",
              "          google.colab.kernel.accessAllowed ? 'block' : 'none';\n",
              "\n",
              "        async function convertToInteractive(key) {\n",
              "          const element = document.querySelector('#df-7601e17f-e6e9-4cc9-8d7d-2193f771187c');\n",
              "          const dataTable =\n",
              "            await google.colab.kernel.invokeFunction('convertToInteractive',\n",
              "                                                     [key], {});\n",
              "          if (!dataTable) return;\n",
              "\n",
              "          const docLinkHtml = 'Like what you see? Visit the ' +\n",
              "            '<a target=\"_blank\" href=https://colab.research.google.com/notebooks/data_table.ipynb>data table notebook</a>'\n",
              "            + ' to learn more about interactive tables.';\n",
              "          element.innerHTML = '';\n",
              "          dataTable['output_type'] = 'display_data';\n",
              "          await google.colab.output.renderOutput(dataTable, element);\n",
              "          const docLink = document.createElement('div');\n",
              "          docLink.innerHTML = docLinkHtml;\n",
              "          element.appendChild(docLink);\n",
              "        }\n",
              "      </script>\n",
              "    </div>\n",
              "  </div>\n",
              "  "
            ]
          },
          "metadata": {},
          "execution_count": 15
        }
      ],
      "source": [
        "news_dataset.head()"
      ]
    },
    {
      "cell_type": "code",
      "execution_count": 16,
      "id": "a25eb688",
      "metadata": {
        "execution": {
          "iopub.execute_input": "2021-09-29T16:34:42.749883Z",
          "iopub.status.busy": "2021-09-29T16:34:42.749026Z",
          "iopub.status.idle": "2021-09-29T16:34:42.756296Z",
          "shell.execute_reply": "2021-09-29T16:34:42.755887Z",
          "shell.execute_reply.started": "2021-09-29T09:26:56.231492Z"
        },
        "id": "a25eb688",
        "papermill": {
          "duration": 0.055769,
          "end_time": "2021-09-29T16:34:42.756411",
          "exception": false,
          "start_time": "2021-09-29T16:34:42.700642",
          "status": "completed"
        },
        "tags": []
      },
      "outputs": [],
      "source": [
        "# Now we will separate the data and label i.e. text_corpus and label fields\n",
        "X = news_dataset.drop(columns='label', axis=1)\n",
        "Y = news_dataset['label']"
      ]
    },
    {
      "cell_type": "code",
      "execution_count": 17,
      "id": "055d4fe6",
      "metadata": {
        "execution": {
          "iopub.execute_input": "2021-09-29T16:34:42.848283Z",
          "iopub.status.busy": "2021-09-29T16:34:42.846477Z",
          "iopub.status.idle": "2021-09-29T16:34:42.851918Z",
          "shell.execute_reply": "2021-09-29T16:34:42.851311Z",
          "shell.execute_reply.started": "2021-09-29T09:27:01.228276Z"
        },
        "id": "055d4fe6",
        "outputId": "e587ee5b-4a87-44b4-ef39-6344396e74dc",
        "papermill": {
          "duration": 0.052655,
          "end_time": "2021-09-29T16:34:42.852040",
          "exception": false,
          "start_time": "2021-09-29T16:34:42.799385",
          "status": "completed"
        },
        "tags": [],
        "colab": {
          "base_uri": "https://localhost:8080/"
        }
      },
      "outputs": [
        {
          "output_type": "stream",
          "name": "stdout",
          "text": [
            "0        Darrell Lucus House Dem Aide: We Didn’t Even S...\n",
            "1        Daniel J. Flynn FLYNN: Hillary Clinton, Big Wo...\n",
            "2        Consortiumnews.com Why the Truth Might Get You...\n",
            "3        Jessica Purkiss 15 Civilians Killed In Single ...\n",
            "4        Howard Portnoy Iranian woman jailed for fictio...\n",
            "                               ...                        \n",
            "20795    Jerome Hudson Rapper T.I.: Trump a ’Poster Chi...\n",
            "20796    Benjamin Hoffman N.F.L. Playoffs: Schedule, Ma...\n",
            "20797    Michael J. de la Merced and Rachel Abrams Macy...\n",
            "20798    Alex Ansary NATO, Russia To Hold Parallel Exer...\n",
            "20799    David Swanson What Keeps the F-35 Alive   Davi...\n",
            "Name: text_corpus, Length: 20800, dtype: object\n"
          ]
        }
      ],
      "source": [
        "X = news_dataset['text_corpus']\n",
        "print(X)"
      ]
    },
    {
      "cell_type": "code",
      "execution_count": 18,
      "id": "014b696d",
      "metadata": {
        "execution": {
          "iopub.execute_input": "2021-09-29T16:34:42.944323Z",
          "iopub.status.busy": "2021-09-29T16:34:42.942621Z",
          "iopub.status.idle": "2021-09-29T16:34:42.947192Z",
          "shell.execute_reply": "2021-09-29T16:34:42.947836Z",
          "shell.execute_reply.started": "2021-09-29T09:27:05.499146Z"
        },
        "id": "014b696d",
        "outputId": "5db90c95-e427-4b48-ffb8-db1ed2b31fc9",
        "papermill": {
          "duration": 0.053001,
          "end_time": "2021-09-29T16:34:42.948015",
          "exception": false,
          "start_time": "2021-09-29T16:34:42.895014",
          "status": "completed"
        },
        "tags": [],
        "colab": {
          "base_uri": "https://localhost:8080/"
        }
      },
      "outputs": [
        {
          "output_type": "stream",
          "name": "stdout",
          "text": [
            "0        1\n",
            "1        0\n",
            "2        1\n",
            "3        1\n",
            "4        1\n",
            "        ..\n",
            "20795    0\n",
            "20796    0\n",
            "20797    0\n",
            "20798    1\n",
            "20799    1\n",
            "Name: label, Length: 20800, dtype: int64\n"
          ]
        }
      ],
      "source": [
        "print(Y)"
      ]
    },
    {
      "cell_type": "code",
      "execution_count": 19,
      "id": "fe5bc449",
      "metadata": {
        "execution": {
          "iopub.execute_input": "2021-09-29T16:34:43.040550Z",
          "iopub.status.busy": "2021-09-29T16:34:43.040028Z",
          "iopub.status.idle": "2021-09-29T16:34:43.045384Z",
          "shell.execute_reply": "2021-09-29T16:34:43.044961Z",
          "shell.execute_reply.started": "2021-09-29T09:27:06.884614Z"
        },
        "id": "fe5bc449",
        "outputId": "b9e4d224-a10c-4ac9-bf75-bb5f9512910e",
        "papermill": {
          "duration": 0.052667,
          "end_time": "2021-09-29T16:34:43.045485",
          "exception": false,
          "start_time": "2021-09-29T16:34:42.992818",
          "status": "completed"
        },
        "tags": [],
        "colab": {
          "base_uri": "https://localhost:8080/"
        }
      },
      "outputs": [
        {
          "output_type": "execute_result",
          "data": {
            "text/plain": [
              "0    Darrell Lucus House Dem Aide: We Didn’t Even S...\n",
              "1    Daniel J. Flynn FLYNN: Hillary Clinton, Big Wo...\n",
              "2    Consortiumnews.com Why the Truth Might Get You...\n",
              "3    Jessica Purkiss 15 Civilians Killed In Single ...\n",
              "4    Howard Portnoy Iranian woman jailed for fictio...\n",
              "Name: text_corpus, dtype: object"
            ]
          },
          "metadata": {},
          "execution_count": 19
        }
      ],
      "source": [
        "X.head()"
      ]
    },
    {
      "cell_type": "markdown",
      "id": "c0e0dbfc",
      "metadata": {
        "papermill": {
          "duration": 0.042696,
          "end_time": "2021-09-29T16:34:43.131429",
          "exception": false,
          "start_time": "2021-09-29T16:34:43.088733",
          "status": "completed"
        },
        "tags": [],
        "id": "c0e0dbfc"
      },
      "source": [
        "## 3.2 Remove Special Characters \n",
        "\n",
        "- Pick all alphabet characters - lowercase and uppercase...all others such as numbers and punctuations will be removed.\n",
        "- Numbers or punctuations will be replaced by a whitespace\n",
        "\n",
        "## 3.3 Remove Stopwords\n",
        "\n",
        "- Remove standard english stopwords\n",
        "\n",
        "## 3.4 Stemming or Lemmatization\n",
        "\n",
        "- Here we will try to apply stemming - objective is to reduce the word to it's root word.\n",
        "- For example: actor, actress, acting, action --> act"
      ]
    },
    {
      "cell_type": "code",
      "execution_count": 20,
      "id": "a1013d86",
      "metadata": {
        "execution": {
          "iopub.execute_input": "2021-09-29T16:34:43.223324Z",
          "iopub.status.busy": "2021-09-29T16:34:43.220371Z",
          "iopub.status.idle": "2021-09-29T16:34:43.225574Z",
          "shell.execute_reply": "2021-09-29T16:34:43.225140Z",
          "shell.execute_reply.started": "2021-09-29T09:27:13.016124Z"
        },
        "papermill": {
          "duration": 0.051305,
          "end_time": "2021-09-29T16:34:43.225678",
          "exception": false,
          "start_time": "2021-09-29T16:34:43.174373",
          "status": "completed"
        },
        "tags": [],
        "id": "a1013d86"
      },
      "outputs": [],
      "source": [
        "port_stem = PorterStemmer()\n",
        "\n",
        "def stemming(content):\n",
        "    # Pick all alphabet characters - lowercase and uppercase...all others such as numbers and punctuations will be removed. Numbers or punctuations will be replaced by a whitespace\n",
        "    stemmed_content = re.sub('[^a-zA-Z]',' ',content)\n",
        "    # Converting all letters to lowercase \n",
        "    stemmed_content = stemmed_content.lower()\n",
        "    # Converting all to a splitted case or a list\n",
        "    stemmed_content = stemmed_content.split()\n",
        "    # Applying stemming, so we get the root words wherever possible + remove stopwords as well\n",
        "    stemmed_content = [port_stem.stem(word) for word in stemmed_content if not word in stopwords.words('english')]\n",
        "    # Join all the words in final content\n",
        "    stemmed_content = ' '.join(stemmed_content)\n",
        "    return stemmed_content"
      ]
    },
    {
      "cell_type": "code",
      "execution_count": 21,
      "id": "4db14016",
      "metadata": {
        "execution": {
          "iopub.execute_input": "2021-09-29T16:34:43.316563Z",
          "iopub.status.busy": "2021-09-29T16:34:43.315806Z",
          "iopub.status.idle": "2021-09-29T17:09:46.870281Z",
          "shell.execute_reply": "2021-09-29T17:09:46.869772Z",
          "shell.execute_reply.started": "2021-09-29T09:27:14.909044Z"
        },
        "papermill": {
          "duration": 2103.602345,
          "end_time": "2021-09-29T17:09:46.870420",
          "exception": false,
          "start_time": "2021-09-29T16:34:43.268075",
          "status": "completed"
        },
        "tags": [],
        "id": "4db14016"
      },
      "outputs": [],
      "source": [
        "news_dataset['text_corpus'] = news_dataset['text_corpus'].apply(stemming)"
      ]
    },
    {
      "cell_type": "code",
      "execution_count": 22,
      "id": "a2012e6f",
      "metadata": {
        "execution": {
          "iopub.execute_input": "2021-09-29T17:09:46.967515Z",
          "iopub.status.busy": "2021-09-29T17:09:46.965882Z",
          "iopub.status.idle": "2021-09-29T17:09:46.970360Z",
          "shell.execute_reply": "2021-09-29T17:09:46.969717Z",
          "shell.execute_reply.started": "2021-09-29T09:28:14.91357Z"
        },
        "id": "a2012e6f",
        "outputId": "c932a5a3-d434-4285-cb85-25c3d6e8625a",
        "papermill": {
          "duration": 0.055281,
          "end_time": "2021-09-29T17:09:46.970539",
          "exception": false,
          "start_time": "2021-09-29T17:09:46.915258",
          "status": "completed"
        },
        "tags": [],
        "colab": {
          "base_uri": "https://localhost:8080/"
        }
      },
      "outputs": [
        {
          "output_type": "stream",
          "name": "stdout",
          "text": [
            "0        darrel lucu hous dem aid even see comey letter...\n",
            "1        daniel j flynn flynn hillari clinton big woman...\n",
            "2        consortiumnew com truth might get fire truth m...\n",
            "3        jessica purkiss civilian kill singl us airstri...\n",
            "4        howard portnoy iranian woman jail fiction unpu...\n",
            "                               ...                        \n",
            "20795    jerom hudson rapper trump poster child white s...\n",
            "20796    benjamin hoffman n f l playoff schedul matchup...\n",
            "20797    michael j de la merc rachel abram maci said re...\n",
            "20798    alex ansari nato russia hold parallel exercis ...\n",
            "20799    david swanson keep f aliv david swanson author...\n",
            "Name: text_corpus, Length: 20800, dtype: object\n"
          ]
        }
      ],
      "source": [
        "print(news_dataset['text_corpus'])"
      ]
    },
    {
      "cell_type": "code",
      "execution_count": 23,
      "id": "a0cca27c",
      "metadata": {
        "execution": {
          "iopub.execute_input": "2021-09-29T17:09:47.067433Z",
          "iopub.status.busy": "2021-09-29T17:09:47.065827Z",
          "iopub.status.idle": "2021-09-29T17:09:47.068143Z",
          "shell.execute_reply": "2021-09-29T17:09:47.068563Z",
          "shell.execute_reply.started": "2021-09-29T09:28:19.643511Z"
        },
        "id": "a0cca27c",
        "papermill": {
          "duration": 0.052589,
          "end_time": "2021-09-29T17:09:47.068693",
          "exception": false,
          "start_time": "2021-09-29T17:09:47.016104",
          "status": "completed"
        },
        "tags": []
      },
      "outputs": [],
      "source": [
        "# Separating data and label\n",
        "X = news_dataset['text_corpus'].values\n",
        "Y = news_dataset['label'].values"
      ]
    },
    {
      "cell_type": "code",
      "execution_count": 24,
      "id": "e7a78bc7",
      "metadata": {
        "execution": {
          "iopub.execute_input": "2021-09-29T17:09:47.161763Z",
          "iopub.status.busy": "2021-09-29T17:09:47.161185Z",
          "iopub.status.idle": "2021-09-29T17:09:47.164709Z",
          "shell.execute_reply": "2021-09-29T17:09:47.165401Z",
          "shell.execute_reply.started": "2021-09-29T09:28:20.815978Z"
        },
        "id": "e7a78bc7",
        "outputId": "4621d8c0-4484-4c47-b542-c38d13830019",
        "papermill": {
          "duration": 0.053014,
          "end_time": "2021-09-29T17:09:47.165623",
          "exception": false,
          "start_time": "2021-09-29T17:09:47.112609",
          "status": "completed"
        },
        "tags": [],
        "colab": {
          "base_uri": "https://localhost:8080/"
        }
      },
      "outputs": [
        {
          "output_type": "stream",
          "name": "stdout",
          "text": [
            "['darrel lucu hous dem aid even see comey letter jason chaffetz tweet hous dem aid even see comey letter jason chaffetz tweet darrel lucu octob subscrib jason chaffetz stump american fork utah imag courtesi michael jolley avail creativ common licens apolog keith olbermann doubt worst person world week fbi director jame comey accord hous democrat aid look like also know second worst person well turn comey sent infam letter announc fbi look email may relat hillari clinton email server rank democrat relev committe hear comey found via tweet one republican committe chairmen know comey notifi republican chairmen democrat rank member hous intellig judiciari oversight committe agenc review email recent discov order see contain classifi inform long letter went oversight committe chairman jason chaffetz set polit world ablaz tweet fbi dir inform fbi learn exist email appear pertin investig case reopen jason chaffetz jasoninthehous octob cours know case comey actual say review email light unrel case know anthoni weiner sext teenag appar littl thing fact matter chaffetz utah republican alreadi vow initi raft investig hillari win least two year worth possibl entir term worth appar chaffetz thought fbi alreadi work result tweet briefli roil nation cooler head realiz dud accord senior hous democrat aid misread letter may least chaffetz sin aid told shareblu boss democrat even know comey letter time found check twitter democrat rank member relev committe receiv comey letter republican chairmen fact democrat rank member receiv chairman oversight govern reform committe jason chaffetz tweet made public let see got right fbi director tell chaffetz gop committe chairmen major develop potenti polit explos investig neither chaffetz colleagu courtesi let democrat counterpart know instead accord aid made find twitter alreadi talk daili ko comey provid advanc notic letter chaffetz republican give time turn spin machin may make good theater noth far even suggest case noth far suggest comey anyth grossli incompet tone deaf suggest howev chaffetz act way make dan burton darrel issa look like model respons bipartisanship even decenc notifi rank member elijah cum someth explos trampl basic standard fair know grant like chaffetz answer sit ridicul republican district anchor provo orem cook partisan vote index r gave mitt romney punish percent vote moreov republican hous leadership given full support chaffetz plan fish expedit mean turn hot light textbook exampl hous becom republican control also second worst person world darrel lucu darrel someth graduat univers north carolina consid journalist old school attempt turn member religi right colleg succeed turn religi right worst nightmar charismat christian unapologet liber desir stand scare silenc increas surviv abus three year marriag may know daili ko christian dem nc follow twitter darrelllucu connect facebook click buy darrel mello yello connect'\n",
            " 'daniel j flynn flynn hillari clinton big woman campu breitbart ever get feel life circl roundabout rather head straight line toward intend destin hillari clinton remain big woman campu leafi liber wellesley massachusett everywher els vote like inaugur dress remaind day way miss havisham forev wore wed dress speak great expect hillari rodham overflow year ago first address wellesley graduat class presid colleg inform gather student need debat far could ascertain spokesman kind like democrat primari minu term unknown even seven sister school glad miss adam made clear speak today us us miss rodham told classmat appoint edger bergen charli mccarthi mortim snerd attend bespectacl granni glass award matronli wisdom least john lennon wisdom took issu previou speaker despit becom first win elect seat u senat sinc reconstruct edward brook came critic call empathi goal protestor critic tactic though clinton senior thesi saul alinski lament black power demagogu elitist arrog repress intoler within new left similar word come republican necessit brief rebutt trust rodham iron observ one word ask class rehears want say everyon came said talk trust talk lack trust us way feel other talk trust bust say say feel permeat gener perhap even understood distrust trust bust certainli bust clinton plan certainli even understand peopl distrust whitewat travelg vast conspiraci benghazi miss email clinton found distrust voic friday load compromis road broaden polit horizon distrust american peopl trump edg percent percent question immedi prior novemb elect stood major reason close horizon clinton describ vanquish support embrac lie con altern fact assault truth reason fail explain american peopl chose lie truth histori major among today know well peopl power invent fact attack question mark begin end free societi offer hyperbol like mani peopl emerg hillari clinton embark upon long strang trip high school goldwat girl wellesley colleg republican presid democrat politician clinton drank time place gave degre significantli went idealist cynic comparison two wellesley commenc address show way back lament long leader view polit art possibl challeng practic polit art make appear imposs possibl big woman campu odd woman white hous wonder current station even possibl point ahead ask septemb may ask presid woman famous dub congenit liar bill safir conclud lie mind get stood elect day like find jilt bride wed day inspir danger delus'\n",
            " 'consortiumnew com truth might get fire truth might get fire octob tension intellig analyst polit policymak alway honest assess desir result latter often overwhelm former iraq war write lawrenc davidson lawrenc davidson might wonder foreign polici maker repeatedli make bad choic insight might drawn follow analysi action play unit state lesson probabl univers back earli spring georg w bush initi invas iraq one key public reason claim countri dictat saddam hussein verg develop nuclear weapon hide weapon mass destruct real reason went beyond charg includ long rang plan regim chang middl east presid georg w bush vice presid dick cheney receiv oval offic brief cia director georg tenet also present chief staff andi card right white hous photo purpos concentr belief iraq becom hostil nuclear power presid bush close associ accept scenario readili short answer bush want inde need believ rational invad iraq first tri connect saddam hussein attack u though never gave stratagem lack evid made difficult ralli american peopl alreadi fixat afghanistan support war baghdad nuclear weapon gambit prove fruit hard evid charg supposedli reliabl wit person exil anti saddam iraqi mani u govern payrol kept tell bush advis nuclear stori true u leadership cadr whose worldview liter demand mortal danger iraq inform order precipit overthrow saddam will tell tale pend atom weapon strong desir believ tale nuclear iraq lower threshold proof likewis repeat assert assum depend iraqi sourc underpin nationwid u campaign gener fear war fever u alli insist unit nation send weapon inspector scour iraq evid nuclear weapon program well chemic biolog weapon inspector could find convinc evid frustrat bush administr soon forc hand march bush launch invas iraq expect occup countri u inspector would sure find evid nuke least stockpil chemic biolog weapon iraqi inform systemat lie social behavior scienc rescu variou u intellig agenc thoroughli shaken affair today year later director manag still tri sort specif tell get true intellig lie one intellig worker put need help protect us armi snake oil salesmen end cia et al market academ assist ahm chalabi head iraqi nation congress key supplier iraqi defector bogu stori hidden wmd partnership forg offic director nation intellig odni serv coordin center sixteen independ u intellig agenc nation academi scienc engin medicin result collabor perman intellig commun studi board coordin program social behavior scienc research might strengthen nation secur despit effort almost certain social behavior scienc cannot give spi agenc want way detect lie better present standard procedur polygraph test interrog even could might well make differ real problem found liar found believ believ simpli true odni leader seem assert u intellig agenc personnel cannot tell often lie case thousand middl echelon intellig worker desk offic specialist know someth close approach truth know pretti well go place like afghanistan iraq syria libya israel palestin elsewher director nation intellig jame clapper right talk presid barack obama oval offic john brennan nation secur aid present photo credit offic director nation intellig therefor someon feed snake oil usual know howev accur grasp thing often avail superior got appoint accept pre structur worldview differ criterion true analyst listen charl gaukel nation intellig council yet anoth organ act meet ground intellig agenc refer search way avoid get taken lie gaukel declar look truth particularli look truth work might mean certainli tell mean histor mean power broker truth must match fit worldview polit ideolog precept fit work intellig specialist send usual accur assess line polici maker often hit roadblock caus group think ideolog blinker know better attitud hand long sell leadership match want believ peddl anyth imaginari iraqi nuke israel western style democraci saudi arabia indispens alli libya liber countri bashar al assad real roadblock peac syria strateg defens initi sdi aka star war world get colder warmer american exception glori list almost endless sad tale tell us want spend million dollar social behavior scienc research improv assess use intellig forget liar want look antidot narrow minded believ policymak seem abl rise ideolog presumpt class presumpt underpin self confid lead us slipperi slope happen way often mani place sourc shakespear determin past prelud elit play destini free capac break structur way see yet middl echelon specialist keep send rel accur assess ladder power hope spring etern'\n",
            " ...\n",
            " 'michael j de la merc rachel abram maci said receiv takeov approach hudson bay new york time maci today grew union sever great name american retail includ namesak chain bloomingdal marshal field ambiti owner sak fifth avenu broach idea take union even combin maci creat depart store juggernaut time industri reel hudson bay compani canadian owner sak approach maci potenti takeov peopl brief matter author speak publicli said friday talk two compani earli stage may still fall apart lead partnership kind rather sale unclear whether deal happen combin could lift fortun maci countri biggest depart store struggl investor certainli appear see way share maci rose much percent friday biggest intraday gain sinc aug accord data bloomberg retail titan maci struggl remain relev discount retail decim tradit busi last month maci announc plan cut job close store terri lundgren chief execut architect maci last big merger expect step end march succeed compani presid jeffrey gennett sinc recess shopper grown accustom hunt bargain pay full price discount store outlet mall flourish tradit store compel respond trim price cut margin depart store hit especi hard particularli shopper migrat away mall emerg analyst say virtual race bottom particularli difficult maci born seri merger past two decad made juggernaut industri stalwart middl tier retail compani neither advantag retail like hm store addit maci face increasingli fierc competit onlin site like amazon elsewher maci troubl drawn attent promin activist hedg fund starboard valu urg compani gener cash sell real estat beneath store starboard held percent maci share sept previous estim valu land billion friday analyst citigroup estim maci hold could worth least billion maci market valu comparison billion friday morn maci taken step sell redevelop store last year ad expert real estat transact board compani larg resist ambiti effort divest real estat includ deal compani sell underli land beneath store rent back compani suitor hudson bay compani far smaller market valu billion canadian dollar billion known bold step hudson bay compani assembl grow empir includ hudson bay depart store chain lord taylor crown jewel sak governor execut chairman hudson bay compani richard baker shown littl fear use debt novemb compani borrow nearli billion sak flagship midtown manhattan spoken often retail need highlight valu real estat financ bid maci may trickier howev carri billion debt may mean hudson bay compani bring partner borrow real estat hold spokesman hudson bay compani declin comment talk report earlier wall street journal comment rumor specul repres maci said repres starboard valu respond request comment analyst said saw merit potenti combin particularli given maci oper woe mr baker expertis wring money real estat clear logic despit dispar cap maci hudson bay compani craig johnson presid custom growth partner research firm said note refer maci stock ticker symbol ad retail market chang faster abl keep whether flight mall migrat onlin'\n",
            " 'alex ansari nato russia hold parallel exercis balkan nato russia hold parallel exercis balkan press tv russia militari nato forc hold parallel militari exercis two neighbor balkan countri russian troop particip war game serbia nato conduct militari drill montenegro media report monday russian forc day militari exercis serbia name slavic brotherhood begin wednesday includ russian paratroop air forc staffer three transport plane unspecifi number troop serbia belaru russia defens ministri said five day nato drill montenegro start monday involv respond flood chemic attack involv unarm personnel seven nato countri partner state past serbia montenegro constitut republ socialist feder republ yugoslavia countri socialist republ tradit russian christian orthodox alli state union form serbia montenegro two becam independ state sinc split two balkan neighbor seem head differ direct strateg montenegro taken pro western stanc award nato offer join northern atlant allianc nato invit montenegro met strong opposit russia meanwhil montenegrin offici accus russia stage alleg coup octob toppl pro western govern nato access bid serbia nato partner held exercis western allianc larg one foreign troop equip particip soil'\n",
            " 'david swanson keep f aliv david swanson author activist journalist radio host nobel peac prize nomine director worldbeyondwar com campaign coordin rootsact org host talk nation radio talk nation radio vt radio syndic pacifica network show also air wtju charlottesvil va wcsx detroit mi kghi westport wa whu storr ct wprr grand rapid mi krfp lp moscow id kzgm cabool mo kmud garbervil ca wazu peoria il wxrd crown point geneva radio geneva ny kkrn round mountain ca kskq lp ashland wuow lp oneonta ny lie radio pinol ca wyap lp clay wv detour johnson citi tn wzrd chicago il weft champaign il wxpi pittsburgh pa wdrt viroqua wi verac onlin liberti justic radio shirley ithaca commun radio ithaca ny wmcb greenfield prx org kao fm olympia wa wusb fm stoni brook ny wool fm bellow fall vermont wslr lp sarasota florida also blog davidswanson org warisacrim org prolif author latest book war lie daybreak undo imperi presid form perfect union world outlaw war swanson hold master degre philosophi univers virginia work newspap report commun director job includ press secretari denni kucinich presidenti campaign media coordin intern labor commun associ three year commun coordin acorn associ commun organ reform read full complet biographi davidswanson org also visit book site war crime keep f aliv david swanson octob petit stop f go global david swanson imagin local busi town invent brand new tool intend almost magic effect thousand mile away howev tool kept use local becam area unsaf children children got near tool tend increas blood pressur increas stress hormon lower read skill poorer memori impair auditori speech percept impair academ perform us would find situat least littl concern unless new invent design murder lot peopl fine imagin new tool ruin neighborhood peopl safe live near imagin govern compens peopl kick live near locat tool think might find troubl mass murder mission imagin also tool fairli frequent explod emit highli toxic chemic particl fiber unsaf breath air mile around normal problem tool need kill lot peopl work flaw new gadget expect cost least year money taken away numer expens benefici economi world trillion drain economi caus loss job radic diminuit resourc educ healthcar hous environment protect humanitarian aid worri case mean case abil kill ton human be stake product even work perfectli lead destroy earth natur environ high tech toy even design expect even abl design amazingli even shortcom matter long intent massiv murder destruct forgiven tool describ call f rootsact org find new petit launch local mind peopl act global place f intend base also link find explan tool decrib f petit direct unit state congress govern australia itali netherland norway turkey unit kingdom israel japan south korea world peopl burlington vermont fairbank alaska f base effort initi vermont stop f coalit save sky vermont western main matter alaska peac center univers alaska fairbank peac club north star chapter veteran peac world beyond war rootsact org code pink ben cohen petit read f weapon offens war serv defens purpos plan cost u trillion year starvat earth could end billion lack clean drink water billion per year first foremost wast resourc airplan kill militari spend contrari popular misconcept also hurt u economi see economi f caus neg health impact cognit impair children live near base render hous near airport unsuit residenti use high crash rate horribl consequ live area crash emiss major environment pollut war endang unit state particip nation rather protect nonviol tool law diplomaci aid crisi prevent verifi nuclear disarma substitut continu counterproduct war therefor undersign call immedi cancel f program whole immedi cancel plan base danger noisi jet near popul area oppos replac f weapon base f locat demand redirect money f back taxpay pocket environment human need u f custom nation around world includ fight climat chang pay student debt rebuild crumbl infrastructur improv educ healthcar hous add name david swanson author activist journalist radio host director worldbeyondwar org campaign coordin rootsact org swanson book includ war lie blog davidswanson org warisacrim org host talk nation radio nobel peac prize nomine follow twitter davidcnswanson facebook help support davidswanson org warisacrim org talknationradio org click http davidswanson org donat']\n"
          ]
        }
      ],
      "source": [
        "print(X)"
      ]
    },
    {
      "cell_type": "code",
      "execution_count": 25,
      "id": "b86a2a1e",
      "metadata": {
        "execution": {
          "iopub.execute_input": "2021-09-29T17:09:47.260423Z",
          "iopub.status.busy": "2021-09-29T17:09:47.259935Z",
          "iopub.status.idle": "2021-09-29T17:09:47.264336Z",
          "shell.execute_reply": "2021-09-29T17:09:47.264982Z",
          "shell.execute_reply.started": "2021-09-29T09:28:22.12223Z"
        },
        "id": "b86a2a1e",
        "outputId": "5cec3b28-735a-45b3-b621-b0ea05e50452",
        "papermill": {
          "duration": 0.053795,
          "end_time": "2021-09-29T17:09:47.265152",
          "exception": false,
          "start_time": "2021-09-29T17:09:47.211357",
          "status": "completed"
        },
        "tags": [],
        "colab": {
          "base_uri": "https://localhost:8080/"
        }
      },
      "outputs": [
        {
          "output_type": "stream",
          "name": "stdout",
          "text": [
            "[1 0 1 ... 0 1 1]\n"
          ]
        }
      ],
      "source": [
        "print(Y)"
      ]
    },
    {
      "cell_type": "markdown",
      "id": "bc98adfa",
      "metadata": {
        "id": "bc98adfa",
        "papermill": {
          "duration": 0.044301,
          "end_time": "2021-09-29T17:09:47.354081",
          "exception": false,
          "start_time": "2021-09-29T17:09:47.309780",
          "status": "completed"
        },
        "tags": []
      },
      "source": [
        "## 3.5 TF-IDF (Term Frequency, Inverse Document Frequency)\n",
        "\n",
        "### Converting Textual data to Numerical data\n",
        "\n",
        "* We will use TF-IDF Vectorizer\n",
        "* TF-IDF Vectorizer will convert textual data to numerical data"
      ]
    },
    {
      "cell_type": "code",
      "execution_count": 26,
      "id": "c6d8ee15",
      "metadata": {
        "execution": {
          "iopub.execute_input": "2021-09-29T17:09:47.494954Z",
          "iopub.status.busy": "2021-09-29T17:09:47.474093Z",
          "iopub.status.idle": "2021-09-29T17:10:05.360764Z",
          "shell.execute_reply": "2021-09-29T17:10:05.361802Z",
          "shell.execute_reply.started": "2021-09-29T09:29:25.753219Z"
        },
        "id": "c6d8ee15",
        "papermill": {
          "duration": 17.958812,
          "end_time": "2021-09-29T17:10:05.362058",
          "exception": false,
          "start_time": "2021-09-29T17:09:47.403246",
          "status": "completed"
        },
        "tags": []
      },
      "outputs": [],
      "source": [
        "vectorizer = TfidfVectorizer()\n",
        "vectorizer.fit(X)\n",
        "\n",
        "X = vectorizer.transform(X)"
      ]
    },
    {
      "cell_type": "code",
      "execution_count": 27,
      "id": "bb751780",
      "metadata": {
        "execution": {
          "iopub.execute_input": "2021-09-29T17:10:05.520538Z",
          "iopub.status.busy": "2021-09-29T17:10:05.519670Z",
          "iopub.status.idle": "2021-09-29T17:10:05.583810Z",
          "shell.execute_reply": "2021-09-29T17:10:05.584860Z",
          "shell.execute_reply.started": "2021-09-29T09:30:22.498529Z"
        },
        "id": "bb751780",
        "outputId": "dedf40e6-cbca-42a7-83d4-da28aeb04f11",
        "papermill": {
          "duration": 0.149909,
          "end_time": "2021-09-29T17:10:05.585084",
          "exception": false,
          "start_time": "2021-09-29T17:10:05.435175",
          "status": "completed"
        },
        "tags": [],
        "colab": {
          "base_uri": "https://localhost:8080/"
        }
      },
      "outputs": [
        {
          "output_type": "stream",
          "name": "stdout",
          "text": [
            "  (0, 109752)\t0.049158312425168854\n",
            "  (0, 109697)\t0.0190646711515277\n",
            "  (0, 108742)\t0.04416544119908134\n",
            "  (0, 108738)\t0.09477494042884232\n",
            "  (0, 108695)\t0.03758488097939004\n",
            "  (0, 108658)\t0.01130614774071694\n",
            "  (0, 108007)\t0.017092546683505856\n",
            "  (0, 107190)\t0.017105936674103112\n",
            "  (0, 107099)\t0.012543234221230963\n",
            "  (0, 107013)\t0.029126417104928328\n",
            "  (0, 106934)\t0.012863319680563097\n",
            "  (0, 106734)\t0.011771716334271506\n",
            "  (0, 105884)\t0.025727197929110487\n",
            "  (0, 105848)\t0.031296701378124764\n",
            "  (0, 104837)\t0.02153649554212262\n",
            "  (0, 103422)\t0.06544555398259812\n",
            "  (0, 102736)\t0.03314918847150756\n",
            "  (0, 102485)\t0.01639612818098454\n",
            "  (0, 101717)\t0.038071924979380216\n",
            "  (0, 101077)\t0.011082403436475742\n",
            "  (0, 101067)\t0.0432044670628921\n",
            "  (0, 101014)\t0.13602128375819167\n",
            "  (0, 100866)\t0.0713092337063475\n",
            "  (0, 99577)\t0.03944988916619374\n",
            "  (0, 99009)\t0.027120358929731154\n",
            "  :\t:\n",
            "  (20799, 7470)\t0.010635431711878486\n",
            "  (20799, 7143)\t0.02816704434978389\n",
            "  (20799, 6848)\t0.03959171777516513\n",
            "  (20799, 6810)\t0.025365585564187044\n",
            "  (20799, 6530)\t0.0423980387875893\n",
            "  (20799, 6084)\t0.0315457284306667\n",
            "  (20799, 5872)\t0.04632206994759717\n",
            "  (20799, 5517)\t0.024097152410748182\n",
            "  (20799, 5242)\t0.045417670739832466\n",
            "  (20799, 3271)\t0.03446674804290047\n",
            "  (20799, 3042)\t0.05007515404726805\n",
            "  (20799, 2955)\t0.015323407277242013\n",
            "  (20799, 2713)\t0.047800235719237465\n",
            "  (20799, 2294)\t0.08924712342400702\n",
            "  (20799, 1997)\t0.023153895918351708\n",
            "  (20799, 1995)\t0.029380105887880807\n",
            "  (20799, 1952)\t0.03330998179427733\n",
            "  (20799, 1886)\t0.033768770862532556\n",
            "  (20799, 1027)\t0.01893705656098481\n",
            "  (20799, 903)\t0.038248338479231606\n",
            "  (20799, 873)\t0.013807510861685218\n",
            "  (20799, 815)\t0.041753611202768166\n",
            "  (20799, 559)\t0.024511273226368112\n",
            "  (20799, 323)\t0.015366447869656087\n",
            "  (20799, 305)\t0.019031597510308154\n"
          ]
        }
      ],
      "source": [
        "print(X)"
      ]
    },
    {
      "cell_type": "markdown",
      "id": "d49400eb",
      "metadata": {
        "id": "d49400eb",
        "papermill": {
          "duration": 0.07524,
          "end_time": "2021-09-29T17:10:05.738027",
          "exception": false,
          "start_time": "2021-09-29T17:10:05.662787",
          "status": "completed"
        },
        "tags": []
      },
      "source": [
        "# 4. Modeling & Model Evaluation"
      ]
    },
    {
      "cell_type": "markdown",
      "id": "87bb6e8e",
      "metadata": {
        "id": "87bb6e8e",
        "papermill": {
          "duration": 0.075895,
          "end_time": "2021-09-29T17:10:05.890041",
          "exception": false,
          "start_time": "2021-09-29T17:10:05.814146",
          "status": "completed"
        },
        "tags": []
      },
      "source": [
        "### Splitting the data into test and train datasets"
      ]
    },
    {
      "cell_type": "code",
      "execution_count": 28,
      "id": "80b9d586",
      "metadata": {
        "execution": {
          "iopub.execute_input": "2021-09-29T17:10:06.044820Z",
          "iopub.status.busy": "2021-09-29T17:10:06.044051Z",
          "iopub.status.idle": "2021-09-29T17:10:06.087346Z",
          "shell.execute_reply": "2021-09-29T17:10:06.088406Z",
          "shell.execute_reply.started": "2021-09-29T09:30:29.414296Z"
        },
        "id": "80b9d586",
        "papermill": {
          "duration": 0.123296,
          "end_time": "2021-09-29T17:10:06.088634",
          "exception": false,
          "start_time": "2021-09-29T17:10:05.965338",
          "status": "completed"
        },
        "tags": []
      },
      "outputs": [],
      "source": [
        "X_train, X_test, Y_train, Y_test = train_test_split(X, Y, test_size=0.18, stratify=Y, random_state=124)"
      ]
    },
    {
      "cell_type": "markdown",
      "id": "c11e51c2",
      "metadata": {
        "id": "c11e51c2",
        "papermill": {
          "duration": 0.045692,
          "end_time": "2021-09-29T17:10:06.202390",
          "exception": false,
          "start_time": "2021-09-29T17:10:06.156698",
          "status": "completed"
        },
        "tags": []
      },
      "source": [
        "### Training the model (model1 : Logistic Regression)"
      ]
    },
    {
      "cell_type": "code",
      "execution_count": 29,
      "id": "93985486",
      "metadata": {
        "execution": {
          "iopub.execute_input": "2021-09-29T17:10:06.298634Z",
          "iopub.status.busy": "2021-09-29T17:10:06.297646Z",
          "iopub.status.idle": "2021-09-29T17:10:08.671544Z",
          "shell.execute_reply": "2021-09-29T17:10:08.672324Z",
          "shell.execute_reply.started": "2021-09-29T09:30:32.498896Z"
        },
        "id": "93985486",
        "outputId": "0bcf6f6c-1b19-4dba-be97-6f531e3290ad",
        "papermill": {
          "duration": 2.424437,
          "end_time": "2021-09-29T17:10:08.672621",
          "exception": false,
          "start_time": "2021-09-29T17:10:06.248184",
          "status": "completed"
        },
        "tags": [],
        "colab": {
          "base_uri": "https://localhost:8080/",
          "height": 75
        }
      },
      "outputs": [
        {
          "output_type": "execute_result",
          "data": {
            "text/plain": [
              "LogisticRegression()"
            ],
            "text/html": [
              "<style>#sk-container-id-1 {color: black;background-color: white;}#sk-container-id-1 pre{padding: 0;}#sk-container-id-1 div.sk-toggleable {background-color: white;}#sk-container-id-1 label.sk-toggleable__label {cursor: pointer;display: block;width: 100%;margin-bottom: 0;padding: 0.3em;box-sizing: border-box;text-align: center;}#sk-container-id-1 label.sk-toggleable__label-arrow:before {content: \"▸\";float: left;margin-right: 0.25em;color: #696969;}#sk-container-id-1 label.sk-toggleable__label-arrow:hover:before {color: black;}#sk-container-id-1 div.sk-estimator:hover label.sk-toggleable__label-arrow:before {color: black;}#sk-container-id-1 div.sk-toggleable__content {max-height: 0;max-width: 0;overflow: hidden;text-align: left;background-color: #f0f8ff;}#sk-container-id-1 div.sk-toggleable__content pre {margin: 0.2em;color: black;border-radius: 0.25em;background-color: #f0f8ff;}#sk-container-id-1 input.sk-toggleable__control:checked~div.sk-toggleable__content {max-height: 200px;max-width: 100%;overflow: auto;}#sk-container-id-1 input.sk-toggleable__control:checked~label.sk-toggleable__label-arrow:before {content: \"▾\";}#sk-container-id-1 div.sk-estimator input.sk-toggleable__control:checked~label.sk-toggleable__label {background-color: #d4ebff;}#sk-container-id-1 div.sk-label input.sk-toggleable__control:checked~label.sk-toggleable__label {background-color: #d4ebff;}#sk-container-id-1 input.sk-hidden--visually {border: 0;clip: rect(1px 1px 1px 1px);clip: rect(1px, 1px, 1px, 1px);height: 1px;margin: -1px;overflow: hidden;padding: 0;position: absolute;width: 1px;}#sk-container-id-1 div.sk-estimator {font-family: monospace;background-color: #f0f8ff;border: 1px dotted black;border-radius: 0.25em;box-sizing: border-box;margin-bottom: 0.5em;}#sk-container-id-1 div.sk-estimator:hover {background-color: #d4ebff;}#sk-container-id-1 div.sk-parallel-item::after {content: \"\";width: 100%;border-bottom: 1px solid gray;flex-grow: 1;}#sk-container-id-1 div.sk-label:hover label.sk-toggleable__label {background-color: #d4ebff;}#sk-container-id-1 div.sk-serial::before {content: \"\";position: absolute;border-left: 1px solid gray;box-sizing: border-box;top: 0;bottom: 0;left: 50%;z-index: 0;}#sk-container-id-1 div.sk-serial {display: flex;flex-direction: column;align-items: center;background-color: white;padding-right: 0.2em;padding-left: 0.2em;position: relative;}#sk-container-id-1 div.sk-item {position: relative;z-index: 1;}#sk-container-id-1 div.sk-parallel {display: flex;align-items: stretch;justify-content: center;background-color: white;position: relative;}#sk-container-id-1 div.sk-item::before, #sk-container-id-1 div.sk-parallel-item::before {content: \"\";position: absolute;border-left: 1px solid gray;box-sizing: border-box;top: 0;bottom: 0;left: 50%;z-index: -1;}#sk-container-id-1 div.sk-parallel-item {display: flex;flex-direction: column;z-index: 1;position: relative;background-color: white;}#sk-container-id-1 div.sk-parallel-item:first-child::after {align-self: flex-end;width: 50%;}#sk-container-id-1 div.sk-parallel-item:last-child::after {align-self: flex-start;width: 50%;}#sk-container-id-1 div.sk-parallel-item:only-child::after {width: 0;}#sk-container-id-1 div.sk-dashed-wrapped {border: 1px dashed gray;margin: 0 0.4em 0.5em 0.4em;box-sizing: border-box;padding-bottom: 0.4em;background-color: white;}#sk-container-id-1 div.sk-label label {font-family: monospace;font-weight: bold;display: inline-block;line-height: 1.2em;}#sk-container-id-1 div.sk-label-container {text-align: center;}#sk-container-id-1 div.sk-container {/* jupyter's `normalize.less` sets `[hidden] { display: none; }` but bootstrap.min.css set `[hidden] { display: none !important; }` so we also need the `!important` here to be able to override the default hidden behavior on the sphinx rendered scikit-learn.org. See: https://github.com/scikit-learn/scikit-learn/issues/21755 */display: inline-block !important;position: relative;}#sk-container-id-1 div.sk-text-repr-fallback {display: none;}</style><div id=\"sk-container-id-1\" class=\"sk-top-container\"><div class=\"sk-text-repr-fallback\"><pre>LogisticRegression()</pre><b>In a Jupyter environment, please rerun this cell to show the HTML representation or trust the notebook. <br />On GitHub, the HTML representation is unable to render, please try loading this page with nbviewer.org.</b></div><div class=\"sk-container\" hidden><div class=\"sk-item\"><div class=\"sk-estimator sk-toggleable\"><input class=\"sk-toggleable__control sk-hidden--visually\" id=\"sk-estimator-id-1\" type=\"checkbox\" checked><label for=\"sk-estimator-id-1\" class=\"sk-toggleable__label sk-toggleable__label-arrow\">LogisticRegression</label><div class=\"sk-toggleable__content\"><pre>LogisticRegression()</pre></div></div></div></div></div>"
            ]
          },
          "metadata": {},
          "execution_count": 29
        }
      ],
      "source": [
        "# Training the model\n",
        "model1 = LogisticRegression()\n",
        "\n",
        "model1.fit(X_train, Y_train)"
      ]
    },
    {
      "cell_type": "markdown",
      "id": "8bd7cb77",
      "metadata": {
        "papermill": {
          "duration": 0.059212,
          "end_time": "2021-09-29T17:10:08.816995",
          "exception": false,
          "start_time": "2021-09-29T17:10:08.757783",
          "status": "completed"
        },
        "tags": [],
        "id": "8bd7cb77"
      },
      "source": [
        "### Model Evaluation"
      ]
    },
    {
      "cell_type": "code",
      "execution_count": 30,
      "id": "9a515afe",
      "metadata": {
        "execution": {
          "iopub.execute_input": "2021-09-29T17:10:08.913926Z",
          "iopub.status.busy": "2021-09-29T17:10:08.912880Z",
          "iopub.status.idle": "2021-09-29T17:10:08.936143Z",
          "shell.execute_reply": "2021-09-29T17:10:08.935619Z",
          "shell.execute_reply.started": "2021-09-29T09:30:54.233344Z"
        },
        "id": "9a515afe",
        "outputId": "669f2f3d-b85a-40fd-f691-4955ee579ef1",
        "papermill": {
          "duration": 0.074387,
          "end_time": "2021-09-29T17:10:08.936266",
          "exception": false,
          "start_time": "2021-09-29T17:10:08.861879",
          "status": "completed"
        },
        "tags": [],
        "colab": {
          "base_uri": "https://localhost:8080/"
        }
      },
      "outputs": [
        {
          "output_type": "stream",
          "name": "stdout",
          "text": [
            "Accuracy score on the training data:  0.9783067542213884\n",
            "Accuracy score on the test data:  0.9610042735042735\n"
          ]
        }
      ],
      "source": [
        "# Accuracy Score on Training Data\n",
        "X_train_prediction = model1.predict(X_train)\n",
        "training_data_accuracy = accuracy_score(X_train_prediction, Y_train)\n",
        "\n",
        "print('Accuracy score on the training data: ',training_data_accuracy)\n",
        "\n",
        "# Accuracy Score on Test Data\n",
        "X_test_prediction = model1.predict(X_test)\n",
        "test_data_accuracy = accuracy_score(X_test_prediction, Y_test)\n",
        "\n",
        "print('Accuracy score on the test data: ',test_data_accuracy)"
      ]
    },
    {
      "cell_type": "code",
      "execution_count": 53,
      "id": "a372c1f2",
      "metadata": {
        "execution": {
          "iopub.execute_input": "2021-09-29T17:10:09.533114Z",
          "iopub.status.busy": "2021-09-29T17:10:09.532281Z",
          "iopub.status.idle": "2021-09-29T17:10:09.544608Z",
          "shell.execute_reply": "2021-09-29T17:10:09.544175Z",
          "shell.execute_reply.started": "2021-09-29T09:31:20.29172Z"
        },
        "id": "a372c1f2",
        "outputId": "4c209b0a-d448-4630-b102-286c3ca2f25e",
        "papermill": {
          "duration": 0.062213,
          "end_time": "2021-09-29T17:10:09.544728",
          "exception": false,
          "start_time": "2021-09-29T17:10:09.482515",
          "status": "completed"
        },
        "tags": [],
        "colab": {
          "base_uri": "https://localhost:8080/",
          "height": 53
        }
      },
      "outputs": [
        {
          "output_type": "execute_result",
          "data": {
            "text/plain": [
              "'              precision    recall  f1-score   support\\n\\n           0       0.97      0.95      0.96      1870\\n           1       0.95      0.97      0.96      1874\\n\\n    accuracy                           0.96      3744\\n   macro avg       0.96      0.96      0.96      3744\\nweighted avg       0.96      0.96      0.96      3744\\n'"
            ],
            "application/vnd.google.colaboratory.intrinsic+json": {
              "type": "string"
            }
          },
          "metadata": {},
          "execution_count": 53
        }
      ],
      "source": [
        "# Classification report for test data\n",
        "classification_report(Y_test, X_test_prediction)"
      ]
    },
    {
      "cell_type": "markdown",
      "id": "d90b63ec",
      "metadata": {
        "id": "d90b63ec",
        "papermill": {
          "duration": 0.046574,
          "end_time": "2021-09-29T17:10:09.638000",
          "exception": false,
          "start_time": "2021-09-29T17:10:09.591426",
          "status": "completed"
        },
        "tags": []
      },
      "source": [
        "# 5. Making a Prediction"
      ]
    },
    {
      "cell_type": "code",
      "execution_count": 54,
      "id": "b4923f96",
      "metadata": {
        "execution": {
          "iopub.execute_input": "2021-09-29T17:10:09.738803Z",
          "iopub.status.busy": "2021-09-29T17:10:09.738150Z",
          "iopub.status.idle": "2021-09-29T17:10:09.741162Z",
          "shell.execute_reply": "2021-09-29T17:10:09.741780Z",
          "shell.execute_reply.started": "2021-09-29T09:31:26.808545Z"
        },
        "id": "b4923f96",
        "outputId": "d7438d8c-6712-4889-983f-8b4d3b1159c6",
        "papermill": {
          "duration": 0.056726,
          "end_time": "2021-09-29T17:10:09.741972",
          "exception": false,
          "start_time": "2021-09-29T17:10:09.685246",
          "status": "completed"
        },
        "tags": [],
        "colab": {
          "base_uri": "https://localhost:8080/"
        }
      },
      "outputs": [
        {
          "output_type": "stream",
          "name": "stdout",
          "text": [
            "[1]\n",
            "The news is Fake and Unreliable\n"
          ]
        }
      ],
      "source": [
        "X_new = X_test[100]\n",
        "\n",
        "prediction = model1.predict(X_new)\n",
        "print(prediction)\n",
        "\n",
        "if (prediction[0] == 0):\n",
        "  print('The news in Real')\n",
        "else:\n",
        "  print('The news is Fake and Unreliable')"
      ]
    },
    {
      "cell_type": "code",
      "execution_count": 55,
      "id": "39b7bf61",
      "metadata": {
        "execution": {
          "iopub.execute_input": "2021-09-29T17:10:09.847353Z",
          "iopub.status.busy": "2021-09-29T17:10:09.846749Z",
          "iopub.status.idle": "2021-09-29T17:10:09.849260Z",
          "shell.execute_reply": "2021-09-29T17:10:09.849666Z",
          "shell.execute_reply.started": "2021-09-29T09:34:33.284688Z"
        },
        "papermill": {
          "duration": 0.05986,
          "end_time": "2021-09-29T17:10:09.849785",
          "exception": false,
          "start_time": "2021-09-29T17:10:09.789925",
          "status": "completed"
        },
        "tags": [],
        "colab": {
          "base_uri": "https://localhost:8080/",
          "height": 81
        },
        "id": "39b7bf61",
        "outputId": "25826530-5bab-4202-da4e-33fde77aec01"
      },
      "outputs": [
        {
          "output_type": "execute_result",
          "data": {
            "text/plain": [
              "      id                                              title         author  \\\n",
              "100  100  Technocracy: The Real Reason Why The UN Wants ...  Activist Post   \n",
              "\n",
              "                                                  text  label  \\\n",
              "100  By Patrick Wood By its very nature, the Intern...      1   \n",
              "\n",
              "                                           text_corpus  \n",
              "100  activist post technocraci real reason un want ...  "
            ],
            "text/html": [
              "\n",
              "  <div id=\"df-f386f280-b63b-462d-801f-de75f0e3e1ea\">\n",
              "    <div class=\"colab-df-container\">\n",
              "      <div>\n",
              "<style scoped>\n",
              "    .dataframe tbody tr th:only-of-type {\n",
              "        vertical-align: middle;\n",
              "    }\n",
              "\n",
              "    .dataframe tbody tr th {\n",
              "        vertical-align: top;\n",
              "    }\n",
              "\n",
              "    .dataframe thead th {\n",
              "        text-align: right;\n",
              "    }\n",
              "</style>\n",
              "<table border=\"1\" class=\"dataframe\">\n",
              "  <thead>\n",
              "    <tr style=\"text-align: right;\">\n",
              "      <th></th>\n",
              "      <th>id</th>\n",
              "      <th>title</th>\n",
              "      <th>author</th>\n",
              "      <th>text</th>\n",
              "      <th>label</th>\n",
              "      <th>text_corpus</th>\n",
              "    </tr>\n",
              "  </thead>\n",
              "  <tbody>\n",
              "    <tr>\n",
              "      <th>100</th>\n",
              "      <td>100</td>\n",
              "      <td>Technocracy: The Real Reason Why The UN Wants ...</td>\n",
              "      <td>Activist Post</td>\n",
              "      <td>By Patrick Wood By its very nature, the Intern...</td>\n",
              "      <td>1</td>\n",
              "      <td>activist post technocraci real reason un want ...</td>\n",
              "    </tr>\n",
              "  </tbody>\n",
              "</table>\n",
              "</div>\n",
              "      <button class=\"colab-df-convert\" onclick=\"convertToInteractive('df-f386f280-b63b-462d-801f-de75f0e3e1ea')\"\n",
              "              title=\"Convert this dataframe to an interactive table.\"\n",
              "              style=\"display:none;\">\n",
              "        \n",
              "  <svg xmlns=\"http://www.w3.org/2000/svg\" height=\"24px\"viewBox=\"0 0 24 24\"\n",
              "       width=\"24px\">\n",
              "    <path d=\"M0 0h24v24H0V0z\" fill=\"none\"/>\n",
              "    <path d=\"M18.56 5.44l.94 2.06.94-2.06 2.06-.94-2.06-.94-.94-2.06-.94 2.06-2.06.94zm-11 1L8.5 8.5l.94-2.06 2.06-.94-2.06-.94L8.5 2.5l-.94 2.06-2.06.94zm10 10l.94 2.06.94-2.06 2.06-.94-2.06-.94-.94-2.06-.94 2.06-2.06.94z\"/><path d=\"M17.41 7.96l-1.37-1.37c-.4-.4-.92-.59-1.43-.59-.52 0-1.04.2-1.43.59L10.3 9.45l-7.72 7.72c-.78.78-.78 2.05 0 2.83L4 21.41c.39.39.9.59 1.41.59.51 0 1.02-.2 1.41-.59l7.78-7.78 2.81-2.81c.8-.78.8-2.07 0-2.86zM5.41 20L4 18.59l7.72-7.72 1.47 1.35L5.41 20z\"/>\n",
              "  </svg>\n",
              "      </button>\n",
              "      \n",
              "  <style>\n",
              "    .colab-df-container {\n",
              "      display:flex;\n",
              "      flex-wrap:wrap;\n",
              "      gap: 12px;\n",
              "    }\n",
              "\n",
              "    .colab-df-convert {\n",
              "      background-color: #E8F0FE;\n",
              "      border: none;\n",
              "      border-radius: 50%;\n",
              "      cursor: pointer;\n",
              "      display: none;\n",
              "      fill: #1967D2;\n",
              "      height: 32px;\n",
              "      padding: 0 0 0 0;\n",
              "      width: 32px;\n",
              "    }\n",
              "\n",
              "    .colab-df-convert:hover {\n",
              "      background-color: #E2EBFA;\n",
              "      box-shadow: 0px 1px 2px rgba(60, 64, 67, 0.3), 0px 1px 3px 1px rgba(60, 64, 67, 0.15);\n",
              "      fill: #174EA6;\n",
              "    }\n",
              "\n",
              "    [theme=dark] .colab-df-convert {\n",
              "      background-color: #3B4455;\n",
              "      fill: #D2E3FC;\n",
              "    }\n",
              "\n",
              "    [theme=dark] .colab-df-convert:hover {\n",
              "      background-color: #434B5C;\n",
              "      box-shadow: 0px 1px 3px 1px rgba(0, 0, 0, 0.15);\n",
              "      filter: drop-shadow(0px 1px 2px rgba(0, 0, 0, 0.3));\n",
              "      fill: #FFFFFF;\n",
              "    }\n",
              "  </style>\n",
              "\n",
              "      <script>\n",
              "        const buttonEl =\n",
              "          document.querySelector('#df-f386f280-b63b-462d-801f-de75f0e3e1ea button.colab-df-convert');\n",
              "        buttonEl.style.display =\n",
              "          google.colab.kernel.accessAllowed ? 'block' : 'none';\n",
              "\n",
              "        async function convertToInteractive(key) {\n",
              "          const element = document.querySelector('#df-f386f280-b63b-462d-801f-de75f0e3e1ea');\n",
              "          const dataTable =\n",
              "            await google.colab.kernel.invokeFunction('convertToInteractive',\n",
              "                                                     [key], {});\n",
              "          if (!dataTable) return;\n",
              "\n",
              "          const docLinkHtml = 'Like what you see? Visit the ' +\n",
              "            '<a target=\"_blank\" href=https://colab.research.google.com/notebooks/data_table.ipynb>data table notebook</a>'\n",
              "            + ' to learn more about interactive tables.';\n",
              "          element.innerHTML = '';\n",
              "          dataTable['output_type'] = 'display_data';\n",
              "          await google.colab.output.renderOutput(dataTable, element);\n",
              "          const docLink = document.createElement('div');\n",
              "          docLink.innerHTML = docLinkHtml;\n",
              "          element.appendChild(docLink);\n",
              "        }\n",
              "      </script>\n",
              "    </div>\n",
              "  </div>\n",
              "  "
            ]
          },
          "metadata": {},
          "execution_count": 55
        }
      ],
      "source": [
        "news_dataset[100:101]"
      ]
    },
    {
      "cell_type": "code",
      "execution_count": 56,
      "id": "739b9466",
      "metadata": {
        "execution": {
          "iopub.execute_input": "2021-09-29T17:10:09.948338Z",
          "iopub.status.busy": "2021-09-29T17:10:09.947691Z",
          "iopub.status.idle": "2021-09-29T17:10:09.950416Z",
          "shell.execute_reply": "2021-09-29T17:10:09.951064Z",
          "shell.execute_reply.started": "2021-09-29T09:34:46.145637Z"
        },
        "id": "739b9466",
        "outputId": "7b78f5d4-8d70-47ef-f5d0-0b1a4ade7222",
        "papermill": {
          "duration": 0.054878,
          "end_time": "2021-09-29T17:10:09.951247",
          "exception": false,
          "start_time": "2021-09-29T17:10:09.896369",
          "status": "completed"
        },
        "tags": [],
        "colab": {
          "base_uri": "https://localhost:8080/"
        }
      },
      "outputs": [
        {
          "output_type": "stream",
          "name": "stdout",
          "text": [
            "1\n"
          ]
        }
      ],
      "source": [
        "print(Y_test[100])"
      ]
    },
    {
      "cell_type": "code",
      "execution_count": 57,
      "id": "c0709dce",
      "metadata": {
        "id": "c0709dce",
        "papermill": {
          "duration": 0.048031,
          "end_time": "2021-09-29T17:10:10.048152",
          "exception": false,
          "start_time": "2021-09-29T17:10:10.000121",
          "status": "completed"
        },
        "tags": [],
        "colab": {
          "base_uri": "https://localhost:8080/"
        },
        "outputId": "30f2fd48-60ea-4975-c531-acc9a161dd72"
      },
      "outputs": [
        {
          "output_type": "stream",
          "name": "stdout",
          "text": [
            "[0]\n",
            "The news in Real\n"
          ]
        }
      ],
      "source": [
        "X_new = X_test[201]\n",
        "\n",
        "prediction = model1.predict(X_new)\n",
        "print(prediction)\n",
        "\n",
        "if (prediction[0] == 0):\n",
        "  print('The news in Real')\n",
        "else:\n",
        "  print('The news is Fake and Unreliable')"
      ]
    },
    {
      "cell_type": "code",
      "source": [
        "print(Y_test[200])"
      ],
      "metadata": {
        "colab": {
          "base_uri": "https://localhost:8080/"
        },
        "id": "bK4gCPewyFTx",
        "outputId": "614b1f22-3917-4b71-b556-fadd11a81514"
      },
      "id": "bK4gCPewyFTx",
      "execution_count": 58,
      "outputs": [
        {
          "output_type": "stream",
          "name": "stdout",
          "text": [
            "0\n"
          ]
        }
      ]
    },
    {
      "cell_type": "code",
      "source": [
        "news_dataset[200:201]"
      ],
      "metadata": {
        "colab": {
          "base_uri": "https://localhost:8080/",
          "height": 81
        },
        "id": "kGs3exJWxaTG",
        "outputId": "a6df7b45-47a3-4b3d-c161-487c3ba993e6"
      },
      "id": "kGs3exJWxaTG",
      "execution_count": 59,
      "outputs": [
        {
          "output_type": "execute_result",
          "data": {
            "text/plain": [
              "      id                                              title           author  \\\n",
              "200  200  Miami Beach Tries to Tame Its Most Raucous Str...  Lizette Alvarez   \n",
              "\n",
              "                                                  text  label  \\\n",
              "200  MIAMI BEACH, Fla.  —   From rooftop bars and r...      0   \n",
              "\n",
              "                                           text_corpus  \n",
              "200  lizett alvarez miami beach tri tame raucou str...  "
            ],
            "text/html": [
              "\n",
              "  <div id=\"df-0b74c02b-2bb9-4d80-9ca9-f7645f77c7d7\">\n",
              "    <div class=\"colab-df-container\">\n",
              "      <div>\n",
              "<style scoped>\n",
              "    .dataframe tbody tr th:only-of-type {\n",
              "        vertical-align: middle;\n",
              "    }\n",
              "\n",
              "    .dataframe tbody tr th {\n",
              "        vertical-align: top;\n",
              "    }\n",
              "\n",
              "    .dataframe thead th {\n",
              "        text-align: right;\n",
              "    }\n",
              "</style>\n",
              "<table border=\"1\" class=\"dataframe\">\n",
              "  <thead>\n",
              "    <tr style=\"text-align: right;\">\n",
              "      <th></th>\n",
              "      <th>id</th>\n",
              "      <th>title</th>\n",
              "      <th>author</th>\n",
              "      <th>text</th>\n",
              "      <th>label</th>\n",
              "      <th>text_corpus</th>\n",
              "    </tr>\n",
              "  </thead>\n",
              "  <tbody>\n",
              "    <tr>\n",
              "      <th>200</th>\n",
              "      <td>200</td>\n",
              "      <td>Miami Beach Tries to Tame Its Most Raucous Str...</td>\n",
              "      <td>Lizette Alvarez</td>\n",
              "      <td>MIAMI BEACH, Fla.  —   From rooftop bars and r...</td>\n",
              "      <td>0</td>\n",
              "      <td>lizett alvarez miami beach tri tame raucou str...</td>\n",
              "    </tr>\n",
              "  </tbody>\n",
              "</table>\n",
              "</div>\n",
              "      <button class=\"colab-df-convert\" onclick=\"convertToInteractive('df-0b74c02b-2bb9-4d80-9ca9-f7645f77c7d7')\"\n",
              "              title=\"Convert this dataframe to an interactive table.\"\n",
              "              style=\"display:none;\">\n",
              "        \n",
              "  <svg xmlns=\"http://www.w3.org/2000/svg\" height=\"24px\"viewBox=\"0 0 24 24\"\n",
              "       width=\"24px\">\n",
              "    <path d=\"M0 0h24v24H0V0z\" fill=\"none\"/>\n",
              "    <path d=\"M18.56 5.44l.94 2.06.94-2.06 2.06-.94-2.06-.94-.94-2.06-.94 2.06-2.06.94zm-11 1L8.5 8.5l.94-2.06 2.06-.94-2.06-.94L8.5 2.5l-.94 2.06-2.06.94zm10 10l.94 2.06.94-2.06 2.06-.94-2.06-.94-.94-2.06-.94 2.06-2.06.94z\"/><path d=\"M17.41 7.96l-1.37-1.37c-.4-.4-.92-.59-1.43-.59-.52 0-1.04.2-1.43.59L10.3 9.45l-7.72 7.72c-.78.78-.78 2.05 0 2.83L4 21.41c.39.39.9.59 1.41.59.51 0 1.02-.2 1.41-.59l7.78-7.78 2.81-2.81c.8-.78.8-2.07 0-2.86zM5.41 20L4 18.59l7.72-7.72 1.47 1.35L5.41 20z\"/>\n",
              "  </svg>\n",
              "      </button>\n",
              "      \n",
              "  <style>\n",
              "    .colab-df-container {\n",
              "      display:flex;\n",
              "      flex-wrap:wrap;\n",
              "      gap: 12px;\n",
              "    }\n",
              "\n",
              "    .colab-df-convert {\n",
              "      background-color: #E8F0FE;\n",
              "      border: none;\n",
              "      border-radius: 50%;\n",
              "      cursor: pointer;\n",
              "      display: none;\n",
              "      fill: #1967D2;\n",
              "      height: 32px;\n",
              "      padding: 0 0 0 0;\n",
              "      width: 32px;\n",
              "    }\n",
              "\n",
              "    .colab-df-convert:hover {\n",
              "      background-color: #E2EBFA;\n",
              "      box-shadow: 0px 1px 2px rgba(60, 64, 67, 0.3), 0px 1px 3px 1px rgba(60, 64, 67, 0.15);\n",
              "      fill: #174EA6;\n",
              "    }\n",
              "\n",
              "    [theme=dark] .colab-df-convert {\n",
              "      background-color: #3B4455;\n",
              "      fill: #D2E3FC;\n",
              "    }\n",
              "\n",
              "    [theme=dark] .colab-df-convert:hover {\n",
              "      background-color: #434B5C;\n",
              "      box-shadow: 0px 1px 3px 1px rgba(0, 0, 0, 0.15);\n",
              "      filter: drop-shadow(0px 1px 2px rgba(0, 0, 0, 0.3));\n",
              "      fill: #FFFFFF;\n",
              "    }\n",
              "  </style>\n",
              "\n",
              "      <script>\n",
              "        const buttonEl =\n",
              "          document.querySelector('#df-0b74c02b-2bb9-4d80-9ca9-f7645f77c7d7 button.colab-df-convert');\n",
              "        buttonEl.style.display =\n",
              "          google.colab.kernel.accessAllowed ? 'block' : 'none';\n",
              "\n",
              "        async function convertToInteractive(key) {\n",
              "          const element = document.querySelector('#df-0b74c02b-2bb9-4d80-9ca9-f7645f77c7d7');\n",
              "          const dataTable =\n",
              "            await google.colab.kernel.invokeFunction('convertToInteractive',\n",
              "                                                     [key], {});\n",
              "          if (!dataTable) return;\n",
              "\n",
              "          const docLinkHtml = 'Like what you see? Visit the ' +\n",
              "            '<a target=\"_blank\" href=https://colab.research.google.com/notebooks/data_table.ipynb>data table notebook</a>'\n",
              "            + ' to learn more about interactive tables.';\n",
              "          element.innerHTML = '';\n",
              "          dataTable['output_type'] = 'display_data';\n",
              "          await google.colab.output.renderOutput(dataTable, element);\n",
              "          const docLink = document.createElement('div');\n",
              "          docLink.innerHTML = docLinkHtml;\n",
              "          element.appendChild(docLink);\n",
              "        }\n",
              "      </script>\n",
              "    </div>\n",
              "  </div>\n",
              "  "
            ]
          },
          "metadata": {},
          "execution_count": 59
        }
      ]
    }
  ],
  "metadata": {
    "kernelspec": {
      "display_name": "Python 3",
      "language": "python",
      "name": "python3"
    },
    "language_info": {
      "codemirror_mode": {
        "name": "ipython",
        "version": 3
      },
      "file_extension": ".py",
      "mimetype": "text/x-python",
      "name": "python",
      "nbconvert_exporter": "python",
      "pygments_lexer": "ipython3",
      "version": "3.7.10"
    },
    "papermill": {
      "default_parameters": {},
      "duration": 2140.826204,
      "end_time": "2021-09-29T17:10:10.602486",
      "environment_variables": {},
      "exception": null,
      "input_path": "__notebook__.ipynb",
      "output_path": "__notebook__.ipynb",
      "parameters": {},
      "start_time": "2021-09-29T16:34:29.776282",
      "version": "2.3.3"
    },
    "colab": {
      "provenance": []
    }
  },
  "nbformat": 4,
  "nbformat_minor": 5
}