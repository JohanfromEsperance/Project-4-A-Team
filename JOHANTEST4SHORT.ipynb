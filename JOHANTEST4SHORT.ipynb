{
  "cells": [
    {
      "cell_type": "markdown",
      "metadata": {
        "id": "view-in-github",
        "colab_type": "text"
      },
      "source": [
        "<a href=\"https://colab.research.google.com/github/JohanfromEsperance/Project-4-A-Team/blob/main/JOHANTEST4SHORT.ipynb\" target=\"_parent\"><img src=\"https://colab.research.google.com/assets/colab-badge.svg\" alt=\"Open In Colab\"/></a>"
      ]
    },
    {
      "cell_type": "markdown",
      "id": "494a6ce0",
      "metadata": {
        "papermill": {
          "duration": 0.049288,
          "end_time": "2022-07-02T03:17:07.245023",
          "exception": false,
          "start_time": "2022-07-02T03:17:07.195735",
          "status": "completed"
        },
        "tags": [],
        "id": "494a6ce0"
      },
      "source": [
        "**Johan - modied to run our data\n",
        "This is a NLP problem where the task is to classify Fake News in an article. This notebook consists of various stages needed for identifying fake news such as data preprocessing, model experimentation, and evaluation of results.**\n"
      ]
    },
    {
      "cell_type": "code",
      "source": [
        "!pip install catboost"
      ],
      "metadata": {
        "colab": {
          "base_uri": "https://localhost:8080/"
        },
        "id": "YfkddE81n5Cl",
        "outputId": "ac1961dd-83cb-452d-8593-8707f7781868"
      },
      "id": "YfkddE81n5Cl",
      "execution_count": null,
      "outputs": [
        {
          "output_type": "stream",
          "name": "stdout",
          "text": [
            "Looking in indexes: https://pypi.org/simple, https://us-python.pkg.dev/colab-wheels/public/simple/\n",
            "Requirement already satisfied: catboost in /usr/local/lib/python3.9/dist-packages (1.1.1)\n",
            "Requirement already satisfied: numpy>=1.16.0 in /usr/local/lib/python3.9/dist-packages (from catboost) (1.22.4)\n",
            "Requirement already satisfied: matplotlib in /usr/local/lib/python3.9/dist-packages (from catboost) (3.5.3)\n",
            "Requirement already satisfied: graphviz in /usr/local/lib/python3.9/dist-packages (from catboost) (0.10.1)\n",
            "Requirement already satisfied: pandas>=0.24.0 in /usr/local/lib/python3.9/dist-packages (from catboost) (1.3.5)\n",
            "Requirement already satisfied: scipy in /usr/local/lib/python3.9/dist-packages (from catboost) (1.10.1)\n",
            "Requirement already satisfied: six in /usr/local/lib/python3.9/dist-packages (from catboost) (1.15.0)\n",
            "Requirement already satisfied: plotly in /usr/local/lib/python3.9/dist-packages (from catboost) (5.5.0)\n",
            "Requirement already satisfied: python-dateutil>=2.7.3 in /usr/local/lib/python3.9/dist-packages (from pandas>=0.24.0->catboost) (2.8.2)\n",
            "Requirement already satisfied: pytz>=2017.3 in /usr/local/lib/python3.9/dist-packages (from pandas>=0.24.0->catboost) (2022.7.1)\n",
            "Requirement already satisfied: packaging>=20.0 in /usr/local/lib/python3.9/dist-packages (from matplotlib->catboost) (23.0)\n",
            "Requirement already satisfied: pillow>=6.2.0 in /usr/local/lib/python3.9/dist-packages (from matplotlib->catboost) (8.4.0)\n",
            "Requirement already satisfied: cycler>=0.10 in /usr/local/lib/python3.9/dist-packages (from matplotlib->catboost) (0.11.0)\n",
            "Requirement already satisfied: pyparsing>=2.2.1 in /usr/local/lib/python3.9/dist-packages (from matplotlib->catboost) (3.0.9)\n",
            "Requirement already satisfied: fonttools>=4.22.0 in /usr/local/lib/python3.9/dist-packages (from matplotlib->catboost) (4.39.0)\n",
            "Requirement already satisfied: kiwisolver>=1.0.1 in /usr/local/lib/python3.9/dist-packages (from matplotlib->catboost) (1.4.4)\n",
            "Requirement already satisfied: tenacity>=6.2.0 in /usr/local/lib/python3.9/dist-packages (from plotly->catboost) (8.2.2)\n"
          ]
        }
      ]
    },
    {
      "cell_type": "code",
      "execution_count": null,
      "id": "17e5df5a",
      "metadata": {
        "execution": {
          "iopub.execute_input": "2022-07-02T03:17:07.346373Z",
          "iopub.status.busy": "2022-07-02T03:17:07.345999Z",
          "iopub.status.idle": "2022-07-02T03:17:16.432529Z",
          "shell.execute_reply": "2022-07-02T03:17:16.431499Z"
        },
        "papermill": {
          "duration": 9.139999,
          "end_time": "2022-07-02T03:17:16.435308",
          "exception": false,
          "start_time": "2022-07-02T03:17:07.295309",
          "status": "completed"
        },
        "tags": [],
        "colab": {
          "base_uri": "https://localhost:8080/"
        },
        "id": "17e5df5a",
        "outputId": "f2ff854f-0e36-4e0e-88f7-3a2e30ea3ab5"
      },
      "outputs": [
        {
          "output_type": "stream",
          "name": "stderr",
          "text": [
            "[nltk_data] Downloading package stopwords to /root/nltk_data...\n",
            "[nltk_data]   Package stopwords is already up-to-date!\n"
          ]
        }
      ],
      "source": [
        "# Importing Libraries\n",
        "import pandas as pd\n",
        "import numpy as np\n",
        "import nltk\n",
        "import re\n",
        "from nltk.corpus import stopwords\n",
        "nltk.download('stopwords')\n",
        "from tensorflow.keras.layers import Embedding,Dropout\n",
        "from tensorflow.keras.preprocessing.sequence import pad_sequences\n",
        "from tensorflow.keras.models import Sequential\n",
        "from tensorflow.keras.preprocessing.text import one_hot\n",
        "from tensorflow.keras.layers import LSTM,Bidirectional,GRU\n",
        "from tensorflow.keras.layers import Dense\n",
        "from sklearn.metrics import classification_report,accuracy_score\n",
        "from sklearn.linear_model import LogisticRegression\n"
      ]
    },
    {
      "cell_type": "code",
      "execution_count": null,
      "id": "02844ff9",
      "metadata": {
        "execution": {
          "iopub.execute_input": "2022-07-02T03:17:16.536129Z",
          "iopub.status.busy": "2022-07-02T03:17:16.535814Z",
          "iopub.status.idle": "2022-07-02T03:17:25.799124Z",
          "shell.execute_reply": "2022-07-02T03:17:25.798111Z"
        },
        "papermill": {
          "duration": 9.316606,
          "end_time": "2022-07-02T03:17:25.802066",
          "exception": false,
          "start_time": "2022-07-02T03:17:16.485460",
          "status": "completed"
        },
        "tags": [],
        "colab": {
          "base_uri": "https://localhost:8080/",
          "height": 206
        },
        "id": "02844ff9",
        "outputId": "f5198c09-bd8a-4489-a871-735db0273920"
      },
      "outputs": [
        {
          "output_type": "execute_result",
          "data": {
            "text/plain": [
              "   id                                              title              author  \\\n",
              "0   0  House Dem Aide: We Didn’t Even See Comey’s Let...       Darrell Lucus   \n",
              "1   1  FLYNN: Hillary Clinton, Big Woman on Campus - ...     Daniel J. Flynn   \n",
              "2   2                  Why the Truth Might Get You Fired  Consortiumnews.com   \n",
              "3   3  15 Civilians Killed In Single US Airstrike Hav...     Jessica Purkiss   \n",
              "4   4  Iranian woman jailed for fictional unpublished...      Howard Portnoy   \n",
              "\n",
              "                                                text  label  \n",
              "0  House Dem Aide: We Didn’t Even See Comey’s Let...      1  \n",
              "1  Ever get the feeling your life circles the rou...      0  \n",
              "2  Why the Truth Might Get You Fired October 29, ...      1  \n",
              "3  Videos 15 Civilians Killed In Single US Airstr...      1  \n",
              "4  Print \\nAn Iranian woman has been sentenced to...      1  "
            ],
            "text/html": [
              "\n",
              "  <div id=\"df-5c6e6adb-1335-485e-a0e8-b915494c41a6\">\n",
              "    <div class=\"colab-df-container\">\n",
              "      <div>\n",
              "<style scoped>\n",
              "    .dataframe tbody tr th:only-of-type {\n",
              "        vertical-align: middle;\n",
              "    }\n",
              "\n",
              "    .dataframe tbody tr th {\n",
              "        vertical-align: top;\n",
              "    }\n",
              "\n",
              "    .dataframe thead th {\n",
              "        text-align: right;\n",
              "    }\n",
              "</style>\n",
              "<table border=\"1\" class=\"dataframe\">\n",
              "  <thead>\n",
              "    <tr style=\"text-align: right;\">\n",
              "      <th></th>\n",
              "      <th>id</th>\n",
              "      <th>title</th>\n",
              "      <th>author</th>\n",
              "      <th>text</th>\n",
              "      <th>label</th>\n",
              "    </tr>\n",
              "  </thead>\n",
              "  <tbody>\n",
              "    <tr>\n",
              "      <th>0</th>\n",
              "      <td>0</td>\n",
              "      <td>House Dem Aide: We Didn’t Even See Comey’s Let...</td>\n",
              "      <td>Darrell Lucus</td>\n",
              "      <td>House Dem Aide: We Didn’t Even See Comey’s Let...</td>\n",
              "      <td>1</td>\n",
              "    </tr>\n",
              "    <tr>\n",
              "      <th>1</th>\n",
              "      <td>1</td>\n",
              "      <td>FLYNN: Hillary Clinton, Big Woman on Campus - ...</td>\n",
              "      <td>Daniel J. Flynn</td>\n",
              "      <td>Ever get the feeling your life circles the rou...</td>\n",
              "      <td>0</td>\n",
              "    </tr>\n",
              "    <tr>\n",
              "      <th>2</th>\n",
              "      <td>2</td>\n",
              "      <td>Why the Truth Might Get You Fired</td>\n",
              "      <td>Consortiumnews.com</td>\n",
              "      <td>Why the Truth Might Get You Fired October 29, ...</td>\n",
              "      <td>1</td>\n",
              "    </tr>\n",
              "    <tr>\n",
              "      <th>3</th>\n",
              "      <td>3</td>\n",
              "      <td>15 Civilians Killed In Single US Airstrike Hav...</td>\n",
              "      <td>Jessica Purkiss</td>\n",
              "      <td>Videos 15 Civilians Killed In Single US Airstr...</td>\n",
              "      <td>1</td>\n",
              "    </tr>\n",
              "    <tr>\n",
              "      <th>4</th>\n",
              "      <td>4</td>\n",
              "      <td>Iranian woman jailed for fictional unpublished...</td>\n",
              "      <td>Howard Portnoy</td>\n",
              "      <td>Print \\nAn Iranian woman has been sentenced to...</td>\n",
              "      <td>1</td>\n",
              "    </tr>\n",
              "  </tbody>\n",
              "</table>\n",
              "</div>\n",
              "      <button class=\"colab-df-convert\" onclick=\"convertToInteractive('df-5c6e6adb-1335-485e-a0e8-b915494c41a6')\"\n",
              "              title=\"Convert this dataframe to an interactive table.\"\n",
              "              style=\"display:none;\">\n",
              "        \n",
              "  <svg xmlns=\"http://www.w3.org/2000/svg\" height=\"24px\"viewBox=\"0 0 24 24\"\n",
              "       width=\"24px\">\n",
              "    <path d=\"M0 0h24v24H0V0z\" fill=\"none\"/>\n",
              "    <path d=\"M18.56 5.44l.94 2.06.94-2.06 2.06-.94-2.06-.94-.94-2.06-.94 2.06-2.06.94zm-11 1L8.5 8.5l.94-2.06 2.06-.94-2.06-.94L8.5 2.5l-.94 2.06-2.06.94zm10 10l.94 2.06.94-2.06 2.06-.94-2.06-.94-.94-2.06-.94 2.06-2.06.94z\"/><path d=\"M17.41 7.96l-1.37-1.37c-.4-.4-.92-.59-1.43-.59-.52 0-1.04.2-1.43.59L10.3 9.45l-7.72 7.72c-.78.78-.78 2.05 0 2.83L4 21.41c.39.39.9.59 1.41.59.51 0 1.02-.2 1.41-.59l7.78-7.78 2.81-2.81c.8-.78.8-2.07 0-2.86zM5.41 20L4 18.59l7.72-7.72 1.47 1.35L5.41 20z\"/>\n",
              "  </svg>\n",
              "      </button>\n",
              "      \n",
              "  <style>\n",
              "    .colab-df-container {\n",
              "      display:flex;\n",
              "      flex-wrap:wrap;\n",
              "      gap: 12px;\n",
              "    }\n",
              "\n",
              "    .colab-df-convert {\n",
              "      background-color: #E8F0FE;\n",
              "      border: none;\n",
              "      border-radius: 50%;\n",
              "      cursor: pointer;\n",
              "      display: none;\n",
              "      fill: #1967D2;\n",
              "      height: 32px;\n",
              "      padding: 0 0 0 0;\n",
              "      width: 32px;\n",
              "    }\n",
              "\n",
              "    .colab-df-convert:hover {\n",
              "      background-color: #E2EBFA;\n",
              "      box-shadow: 0px 1px 2px rgba(60, 64, 67, 0.3), 0px 1px 3px 1px rgba(60, 64, 67, 0.15);\n",
              "      fill: #174EA6;\n",
              "    }\n",
              "\n",
              "    [theme=dark] .colab-df-convert {\n",
              "      background-color: #3B4455;\n",
              "      fill: #D2E3FC;\n",
              "    }\n",
              "\n",
              "    [theme=dark] .colab-df-convert:hover {\n",
              "      background-color: #434B5C;\n",
              "      box-shadow: 0px 1px 3px 1px rgba(0, 0, 0, 0.15);\n",
              "      filter: drop-shadow(0px 1px 2px rgba(0, 0, 0, 0.3));\n",
              "      fill: #FFFFFF;\n",
              "    }\n",
              "  </style>\n",
              "\n",
              "      <script>\n",
              "        const buttonEl =\n",
              "          document.querySelector('#df-5c6e6adb-1335-485e-a0e8-b915494c41a6 button.colab-df-convert');\n",
              "        buttonEl.style.display =\n",
              "          google.colab.kernel.accessAllowed ? 'block' : 'none';\n",
              "\n",
              "        async function convertToInteractive(key) {\n",
              "          const element = document.querySelector('#df-5c6e6adb-1335-485e-a0e8-b915494c41a6');\n",
              "          const dataTable =\n",
              "            await google.colab.kernel.invokeFunction('convertToInteractive',\n",
              "                                                     [key], {});\n",
              "          if (!dataTable) return;\n",
              "\n",
              "          const docLinkHtml = 'Like what you see? Visit the ' +\n",
              "            '<a target=\"_blank\" href=https://colab.research.google.com/notebooks/data_table.ipynb>data table notebook</a>'\n",
              "            + ' to learn more about interactive tables.';\n",
              "          element.innerHTML = '';\n",
              "          dataTable['output_type'] = 'display_data';\n",
              "          await google.colab.output.renderOutput(dataTable, element);\n",
              "          const docLink = document.createElement('div');\n",
              "          docLink.innerHTML = docLinkHtml;\n",
              "          element.appendChild(docLink);\n",
              "        }\n",
              "      </script>\n",
              "    </div>\n",
              "  </div>\n",
              "  "
            ]
          },
          "metadata": {},
          "execution_count": 3
        }
      ],
      "source": [
        "# Reading data from csv\n",
        "train = pd.read_csv(\"train.csv\")\n",
        "test  = pd.read_csv(\"test.csv\")\n",
        "train.head()"
      ]
    },
    {
      "cell_type": "code",
      "execution_count": null,
      "id": "eab77e01",
      "metadata": {
        "execution": {
          "iopub.execute_input": "2022-07-02T03:17:25.902344Z",
          "iopub.status.busy": "2022-07-02T03:17:25.901919Z",
          "iopub.status.idle": "2022-07-02T03:17:25.931289Z",
          "shell.execute_reply": "2022-07-02T03:17:25.930259Z"
        },
        "papermill": {
          "duration": 0.082244,
          "end_time": "2022-07-02T03:17:25.933487",
          "exception": false,
          "start_time": "2022-07-02T03:17:25.851243",
          "status": "completed"
        },
        "tags": [],
        "colab": {
          "base_uri": "https://localhost:8080/",
          "height": 206
        },
        "id": "eab77e01",
        "outputId": "80ed4149-04ac-4a8a-c867-498e3925611c"
      },
      "outputs": [
        {
          "output_type": "execute_result",
          "data": {
            "text/plain": [
              "      id                                              title  \\\n",
              "0  20800  Specter of Trump Loosens Tongues, if Not Purse...   \n",
              "1  20801  Russian warships ready to strike terrorists ne...   \n",
              "2  20802  #NoDAPL: Native American Leaders Vow to Stay A...   \n",
              "3  20803  Tim Tebow Will Attempt Another Comeback, This ...   \n",
              "4  20804                    Keiser Report: Meme Wars (E995)   \n",
              "\n",
              "                    author                                               text  \n",
              "0         David Streitfeld  PALO ALTO, Calif.  —   After years of scorning...  \n",
              "1                      NaN  Russian warships ready to strike terrorists ne...  \n",
              "2            Common Dreams  Videos #NoDAPL: Native American Leaders Vow to...  \n",
              "3            Daniel Victor  If at first you don’t succeed, try a different...  \n",
              "4  Truth Broadcast Network  42 mins ago 1 Views 0 Comments 0 Likes 'For th...  "
            ],
            "text/html": [
              "\n",
              "  <div id=\"df-14ed0ca2-f660-41e8-817e-830e7ff15956\">\n",
              "    <div class=\"colab-df-container\">\n",
              "      <div>\n",
              "<style scoped>\n",
              "    .dataframe tbody tr th:only-of-type {\n",
              "        vertical-align: middle;\n",
              "    }\n",
              "\n",
              "    .dataframe tbody tr th {\n",
              "        vertical-align: top;\n",
              "    }\n",
              "\n",
              "    .dataframe thead th {\n",
              "        text-align: right;\n",
              "    }\n",
              "</style>\n",
              "<table border=\"1\" class=\"dataframe\">\n",
              "  <thead>\n",
              "    <tr style=\"text-align: right;\">\n",
              "      <th></th>\n",
              "      <th>id</th>\n",
              "      <th>title</th>\n",
              "      <th>author</th>\n",
              "      <th>text</th>\n",
              "    </tr>\n",
              "  </thead>\n",
              "  <tbody>\n",
              "    <tr>\n",
              "      <th>0</th>\n",
              "      <td>20800</td>\n",
              "      <td>Specter of Trump Loosens Tongues, if Not Purse...</td>\n",
              "      <td>David Streitfeld</td>\n",
              "      <td>PALO ALTO, Calif.  —   After years of scorning...</td>\n",
              "    </tr>\n",
              "    <tr>\n",
              "      <th>1</th>\n",
              "      <td>20801</td>\n",
              "      <td>Russian warships ready to strike terrorists ne...</td>\n",
              "      <td>NaN</td>\n",
              "      <td>Russian warships ready to strike terrorists ne...</td>\n",
              "    </tr>\n",
              "    <tr>\n",
              "      <th>2</th>\n",
              "      <td>20802</td>\n",
              "      <td>#NoDAPL: Native American Leaders Vow to Stay A...</td>\n",
              "      <td>Common Dreams</td>\n",
              "      <td>Videos #NoDAPL: Native American Leaders Vow to...</td>\n",
              "    </tr>\n",
              "    <tr>\n",
              "      <th>3</th>\n",
              "      <td>20803</td>\n",
              "      <td>Tim Tebow Will Attempt Another Comeback, This ...</td>\n",
              "      <td>Daniel Victor</td>\n",
              "      <td>If at first you don’t succeed, try a different...</td>\n",
              "    </tr>\n",
              "    <tr>\n",
              "      <th>4</th>\n",
              "      <td>20804</td>\n",
              "      <td>Keiser Report: Meme Wars (E995)</td>\n",
              "      <td>Truth Broadcast Network</td>\n",
              "      <td>42 mins ago 1 Views 0 Comments 0 Likes 'For th...</td>\n",
              "    </tr>\n",
              "  </tbody>\n",
              "</table>\n",
              "</div>\n",
              "      <button class=\"colab-df-convert\" onclick=\"convertToInteractive('df-14ed0ca2-f660-41e8-817e-830e7ff15956')\"\n",
              "              title=\"Convert this dataframe to an interactive table.\"\n",
              "              style=\"display:none;\">\n",
              "        \n",
              "  <svg xmlns=\"http://www.w3.org/2000/svg\" height=\"24px\"viewBox=\"0 0 24 24\"\n",
              "       width=\"24px\">\n",
              "    <path d=\"M0 0h24v24H0V0z\" fill=\"none\"/>\n",
              "    <path d=\"M18.56 5.44l.94 2.06.94-2.06 2.06-.94-2.06-.94-.94-2.06-.94 2.06-2.06.94zm-11 1L8.5 8.5l.94-2.06 2.06-.94-2.06-.94L8.5 2.5l-.94 2.06-2.06.94zm10 10l.94 2.06.94-2.06 2.06-.94-2.06-.94-.94-2.06-.94 2.06-2.06.94z\"/><path d=\"M17.41 7.96l-1.37-1.37c-.4-.4-.92-.59-1.43-.59-.52 0-1.04.2-1.43.59L10.3 9.45l-7.72 7.72c-.78.78-.78 2.05 0 2.83L4 21.41c.39.39.9.59 1.41.59.51 0 1.02-.2 1.41-.59l7.78-7.78 2.81-2.81c.8-.78.8-2.07 0-2.86zM5.41 20L4 18.59l7.72-7.72 1.47 1.35L5.41 20z\"/>\n",
              "  </svg>\n",
              "      </button>\n",
              "      \n",
              "  <style>\n",
              "    .colab-df-container {\n",
              "      display:flex;\n",
              "      flex-wrap:wrap;\n",
              "      gap: 12px;\n",
              "    }\n",
              "\n",
              "    .colab-df-convert {\n",
              "      background-color: #E8F0FE;\n",
              "      border: none;\n",
              "      border-radius: 50%;\n",
              "      cursor: pointer;\n",
              "      display: none;\n",
              "      fill: #1967D2;\n",
              "      height: 32px;\n",
              "      padding: 0 0 0 0;\n",
              "      width: 32px;\n",
              "    }\n",
              "\n",
              "    .colab-df-convert:hover {\n",
              "      background-color: #E2EBFA;\n",
              "      box-shadow: 0px 1px 2px rgba(60, 64, 67, 0.3), 0px 1px 3px 1px rgba(60, 64, 67, 0.15);\n",
              "      fill: #174EA6;\n",
              "    }\n",
              "\n",
              "    [theme=dark] .colab-df-convert {\n",
              "      background-color: #3B4455;\n",
              "      fill: #D2E3FC;\n",
              "    }\n",
              "\n",
              "    [theme=dark] .colab-df-convert:hover {\n",
              "      background-color: #434B5C;\n",
              "      box-shadow: 0px 1px 3px 1px rgba(0, 0, 0, 0.15);\n",
              "      filter: drop-shadow(0px 1px 2px rgba(0, 0, 0, 0.3));\n",
              "      fill: #FFFFFF;\n",
              "    }\n",
              "  </style>\n",
              "\n",
              "      <script>\n",
              "        const buttonEl =\n",
              "          document.querySelector('#df-14ed0ca2-f660-41e8-817e-830e7ff15956 button.colab-df-convert');\n",
              "        buttonEl.style.display =\n",
              "          google.colab.kernel.accessAllowed ? 'block' : 'none';\n",
              "\n",
              "        async function convertToInteractive(key) {\n",
              "          const element = document.querySelector('#df-14ed0ca2-f660-41e8-817e-830e7ff15956');\n",
              "          const dataTable =\n",
              "            await google.colab.kernel.invokeFunction('convertToInteractive',\n",
              "                                                     [key], {});\n",
              "          if (!dataTable) return;\n",
              "\n",
              "          const docLinkHtml = 'Like what you see? Visit the ' +\n",
              "            '<a target=\"_blank\" href=https://colab.research.google.com/notebooks/data_table.ipynb>data table notebook</a>'\n",
              "            + ' to learn more about interactive tables.';\n",
              "          element.innerHTML = '';\n",
              "          dataTable['output_type'] = 'display_data';\n",
              "          await google.colab.output.renderOutput(dataTable, element);\n",
              "          const docLink = document.createElement('div');\n",
              "          docLink.innerHTML = docLinkHtml;\n",
              "          element.appendChild(docLink);\n",
              "        }\n",
              "      </script>\n",
              "    </div>\n",
              "  </div>\n",
              "  "
            ]
          },
          "metadata": {},
          "execution_count": 4
        }
      ],
      "source": [
        "test.head()"
      ]
    },
    {
      "cell_type": "code",
      "execution_count": null,
      "id": "d9e73c89",
      "metadata": {
        "execution": {
          "iopub.execute_input": "2022-07-02T03:17:26.033975Z",
          "iopub.status.busy": "2022-07-02T03:17:26.033665Z",
          "iopub.status.idle": "2022-07-02T03:17:26.040046Z",
          "shell.execute_reply": "2022-07-02T03:17:26.038953Z"
        },
        "papermill": {
          "duration": 0.060269,
          "end_time": "2022-07-02T03:17:26.042800",
          "exception": false,
          "start_time": "2022-07-02T03:17:25.982531",
          "status": "completed"
        },
        "tags": [],
        "colab": {
          "base_uri": "https://localhost:8080/"
        },
        "id": "d9e73c89",
        "outputId": "ca5a7ff7-54c7-4846-d333-073b46146710"
      },
      "outputs": [
        {
          "output_type": "stream",
          "name": "stdout",
          "text": [
            "There are 20800 number of rows and 5 number of columns for training.\n",
            "There are 5200 number of rows and 4 number of columns for testing.\n"
          ]
        }
      ],
      "source": [
        "# Displaying rows and columns in dataset\n",
        "print(\"There are {} number of rows and {} number of columns for training.\".format(train.shape[0],train.shape[1]))\n",
        "print(\"There are {} number of rows and {} number of columns for testing.\".format(test.shape[0],test.shape[1]))"
      ]
    },
    {
      "cell_type": "markdown",
      "id": "63dad6fa",
      "metadata": {
        "papermill": {
          "duration": 0.0505,
          "end_time": "2022-07-02T03:17:26.144079",
          "exception": false,
          "start_time": "2022-07-02T03:17:26.093579",
          "status": "completed"
        },
        "tags": [],
        "id": "63dad6fa"
      },
      "source": [
        "**Checking Null Values**"
      ]
    },
    {
      "cell_type": "code",
      "execution_count": null,
      "id": "e0cf924c",
      "metadata": {
        "execution": {
          "iopub.execute_input": "2022-07-02T03:17:26.247919Z",
          "iopub.status.busy": "2022-07-02T03:17:26.247578Z",
          "iopub.status.idle": "2022-07-02T03:17:26.266669Z",
          "shell.execute_reply": "2022-07-02T03:17:26.265959Z"
        },
        "papermill": {
          "duration": 0.074223,
          "end_time": "2022-07-02T03:17:26.269010",
          "exception": false,
          "start_time": "2022-07-02T03:17:26.194787",
          "status": "completed"
        },
        "tags": [],
        "colab": {
          "base_uri": "https://localhost:8080/"
        },
        "id": "e0cf924c",
        "outputId": "c73153ff-52e2-48cc-9d2c-63a50cdc4213"
      },
      "outputs": [
        {
          "output_type": "execute_result",
          "data": {
            "text/plain": [
              "id           0\n",
              "title      558\n",
              "author    1957\n",
              "text        39\n",
              "label        0\n",
              "dtype: int64"
            ]
          },
          "metadata": {},
          "execution_count": 6
        }
      ],
      "source": [
        "# Checking the null values in training data.\n",
        "train.isnull().sum()"
      ]
    },
    {
      "cell_type": "code",
      "execution_count": null,
      "id": "57040657",
      "metadata": {
        "execution": {
          "iopub.execute_input": "2022-07-02T03:17:26.375353Z",
          "iopub.status.busy": "2022-07-02T03:17:26.374588Z",
          "iopub.status.idle": "2022-07-02T03:17:27.289635Z",
          "shell.execute_reply": "2022-07-02T03:17:27.288724Z"
        },
        "papermill": {
          "duration": 0.971125,
          "end_time": "2022-07-02T03:17:27.291895",
          "exception": false,
          "start_time": "2022-07-02T03:17:26.320770",
          "status": "completed"
        },
        "tags": [],
        "colab": {
          "base_uri": "https://localhost:8080/"
        },
        "id": "57040657",
        "outputId": "c605206c-6875-4937-c9b1-ffa1839ab0fa"
      },
      "outputs": [
        {
          "output_type": "execute_result",
          "data": {
            "text/plain": [
              "id          0\n",
              "title     122\n",
              "author    503\n",
              "text        7\n",
              "dtype: int64"
            ]
          },
          "metadata": {},
          "execution_count": 7
        }
      ],
      "source": [
        "# Checking the null values in testing data.\n",
        "test.isnull().sum()"
      ]
    },
    {
      "cell_type": "code",
      "execution_count": null,
      "id": "ee733fe6",
      "metadata": {
        "execution": {
          "iopub.execute_input": "2022-07-02T03:17:27.397663Z",
          "iopub.status.busy": "2022-07-02T03:17:27.397142Z",
          "iopub.status.idle": "2022-07-02T03:17:29.064935Z",
          "shell.execute_reply": "2022-07-02T03:17:29.063838Z"
        },
        "papermill": {
          "duration": 1.72315,
          "end_time": "2022-07-02T03:17:29.068179",
          "exception": false,
          "start_time": "2022-07-02T03:17:27.345029",
          "status": "completed"
        },
        "tags": [],
        "id": "ee733fe6"
      },
      "outputs": [],
      "source": [
        "# Handling nan values in dataset using empty spaces\n",
        "def handle_nan(train_data,test_data):\n",
        "    '''Input: Data to the function containing Nan values.\n",
        "       Output : Cleaned data containing no Nan values.\n",
        "       Function: Cleaning Nan values.\n",
        "     '''\n",
        "    train = train_data.fillna(\" \")\n",
        "    test  = test_data.fillna(\" \")\n",
        "    return train,test\n",
        "\n",
        "train,test = handle_nan(train,test)\n"
      ]
    },
    {
      "cell_type": "code",
      "execution_count": null,
      "id": "8bd5f375",
      "metadata": {
        "execution": {
          "iopub.execute_input": "2022-07-02T03:17:29.171387Z",
          "iopub.status.busy": "2022-07-02T03:17:29.171089Z",
          "iopub.status.idle": "2022-07-02T03:17:29.206590Z",
          "shell.execute_reply": "2022-07-02T03:17:29.205520Z"
        },
        "papermill": {
          "duration": 0.089762,
          "end_time": "2022-07-02T03:17:29.209044",
          "exception": false,
          "start_time": "2022-07-02T03:17:29.119282",
          "status": "completed"
        },
        "tags": [],
        "id": "8bd5f375"
      },
      "outputs": [],
      "source": [
        "# Creating a variable \"merged\" by merging columns \"title\" and \"author\"\n",
        "train[\"merged\"] = train[\"title\"]+\" \"+train[\"author\"]\n",
        "test[\"merged\"]  = test[\"title\"]+\" \"+test[\"author\"]"
      ]
    },
    {
      "cell_type": "code",
      "execution_count": null,
      "id": "e6a73e9c",
      "metadata": {
        "execution": {
          "iopub.execute_input": "2022-07-02T03:17:29.314436Z",
          "iopub.status.busy": "2022-07-02T03:17:29.313910Z",
          "iopub.status.idle": "2022-07-02T03:17:29.328230Z",
          "shell.execute_reply": "2022-07-02T03:17:29.327484Z"
        },
        "papermill": {
          "duration": 0.069779,
          "end_time": "2022-07-02T03:17:29.330510",
          "exception": false,
          "start_time": "2022-07-02T03:17:29.260731",
          "status": "completed"
        },
        "tags": [],
        "id": "e6a73e9c"
      },
      "outputs": [],
      "source": [
        "# Seperating Independent and dependent features\n",
        "X = train.drop(columns=['label'],axis=1)\n",
        "y = train['label']"
      ]
    },
    {
      "cell_type": "code",
      "execution_count": null,
      "id": "6542e2a2",
      "metadata": {
        "execution": {
          "iopub.execute_input": "2022-07-02T03:17:29.437468Z",
          "iopub.status.busy": "2022-07-02T03:17:29.436962Z",
          "iopub.status.idle": "2022-07-02T03:17:30.302017Z",
          "shell.execute_reply": "2022-07-02T03:17:30.300953Z"
        },
        "papermill": {
          "duration": 0.921011,
          "end_time": "2022-07-02T03:17:30.304697",
          "exception": false,
          "start_time": "2022-07-02T03:17:29.383686",
          "status": "completed"
        },
        "tags": [],
        "id": "6542e2a2"
      },
      "outputs": [],
      "source": [
        "# Creating One-Hot Representations\n",
        "messages = X.copy()\n",
        "messages.reset_index(inplace=True)\n",
        "messages_test = test.copy()\n",
        "messages_test.reset_index(inplace=True)"
      ]
    },
    {
      "cell_type": "markdown",
      "id": "c05b7eaa",
      "metadata": {
        "papermill": {
          "duration": 0.050667,
          "end_time": "2022-07-02T03:17:30.407969",
          "exception": false,
          "start_time": "2022-07-02T03:17:30.357302",
          "status": "completed"
        },
        "tags": [],
        "id": "c05b7eaa"
      },
      "source": [
        "# Data Pre-processing\n",
        "**In Data Pre-processing following steps are followed:** \n",
        "**1. Firstly, all the sequences except english characters are removed from the string.**\n",
        "**2. Next, to avoid false predictions or ambiguity with upper and lowercase, all the characters in strings are converted    to lowercase.**\n",
        "**3. Next, all the sentences are tokenized into words.**\n",
        "**4. To facilitate fast processing, stemming is applied to the tokenized words.**\n",
        "**5. Next, words are joined together and stored in the corpus.**\n",
        "\n",
        "**Note: In this tutorial, we have used \"merged\" column for classification task. Also, the loop inside the function runs over all the examples in the merged column.**"
      ]
    },
    {
      "cell_type": "code",
      "execution_count": null,
      "id": "00f314bb",
      "metadata": {
        "execution": {
          "iopub.execute_input": "2022-07-02T03:17:30.512290Z",
          "iopub.status.busy": "2022-07-02T03:17:30.512014Z",
          "iopub.status.idle": "2022-07-02T03:18:50.405102Z",
          "shell.execute_reply": "2022-07-02T03:18:50.404077Z"
        },
        "papermill": {
          "duration": 80.003339,
          "end_time": "2022-07-02T03:18:50.462082",
          "exception": false,
          "start_time": "2022-07-02T03:17:30.458743",
          "status": "completed"
        },
        "tags": [],
        "colab": {
          "base_uri": "https://localhost:8080/",
          "height": 35
        },
        "id": "00f314bb",
        "outputId": "e1ded068-0818-4d1e-e2b6-aa6bde0b7a25"
      },
      "outputs": [
        {
          "output_type": "execute_result",
          "data": {
            "text/plain": [
              "'flynn hillari clinton big woman campu breitbart daniel j flynn'"
            ],
            "application/vnd.google.colaboratory.intrinsic+json": {
              "type": "string"
            }
          },
          "metadata": {},
          "execution_count": 12
        }
      ],
      "source": [
        "# Performing data preprocessing on column 'title'\n",
        "from nltk.stem.porter import PorterStemmer\n",
        "ps = PorterStemmer()\n",
        "def perform_preprocess(data):\n",
        "    corpus = []\n",
        "    for i in range(0,len(data)):\n",
        "        review = re.sub('[^a-zA-Z]',' ',data['merged'][i])\n",
        "        review = review.lower()\n",
        "        review = review.split()\n",
        "        review = [ps.stem(word) for word in review if word not in stopwords.words('english')]\n",
        "        review = ' '.join(review)\n",
        "        corpus.append(review)\n",
        "    return corpus\n",
        "    \n",
        "train_corpus = perform_preprocess(messages)\n",
        "test_corpus  = perform_preprocess(messages_test)\n",
        "train_corpus[1]"
      ]
    },
    {
      "cell_type": "code",
      "execution_count": null,
      "id": "bff5f889",
      "metadata": {
        "execution": {
          "iopub.execute_input": "2022-07-02T03:18:50.573400Z",
          "iopub.status.busy": "2022-07-02T03:18:50.572862Z",
          "iopub.status.idle": "2022-07-02T03:18:50.579600Z",
          "shell.execute_reply": "2022-07-02T03:18:50.578584Z"
        },
        "papermill": {
          "duration": 0.064446,
          "end_time": "2022-07-02T03:18:50.581758",
          "exception": false,
          "start_time": "2022-07-02T03:18:50.517312",
          "status": "completed"
        },
        "tags": [],
        "colab": {
          "base_uri": "https://localhost:8080/",
          "height": 35
        },
        "id": "bff5f889",
        "outputId": "fa1f3297-491b-44ce-eb86-ec0284ee89a6"
      },
      "outputs": [
        {
          "output_type": "execute_result",
          "data": {
            "text/plain": [
              "'russian warship readi strike terrorist near aleppo'"
            ],
            "application/vnd.google.colaboratory.intrinsic+json": {
              "type": "string"
            }
          },
          "metadata": {},
          "execution_count": 13
        }
      ],
      "source": [
        "test_corpus[1]"
      ]
    },
    {
      "cell_type": "markdown",
      "id": "f040d4d8",
      "metadata": {
        "papermill": {
          "duration": 0.054429,
          "end_time": "2022-07-02T03:18:50.694613",
          "exception": false,
          "start_time": "2022-07-02T03:18:50.640184",
          "status": "completed"
        },
        "tags": [],
        "id": "f040d4d8"
      },
      "source": [
        "**Below code converts the pre-processed words to one-hot vectors in the range of vocabulary size=5000. This is done to obtain numerical feature matrix**"
      ]
    },
    {
      "cell_type": "code",
      "execution_count": null,
      "id": "69bdbd18",
      "metadata": {
        "execution": {
          "iopub.execute_input": "2022-07-02T03:18:50.803529Z",
          "iopub.status.busy": "2022-07-02T03:18:50.803050Z",
          "iopub.status.idle": "2022-07-02T03:18:51.504998Z",
          "shell.execute_reply": "2022-07-02T03:18:51.504207Z"
        },
        "papermill": {
          "duration": 0.75898,
          "end_time": "2022-07-02T03:18:51.507555",
          "exception": false,
          "start_time": "2022-07-02T03:18:50.748575",
          "status": "completed"
        },
        "tags": [],
        "id": "69bdbd18"
      },
      "outputs": [],
      "source": [
        "# Converting to one-hot repr.\n",
        "vocab_size = 5000\n",
        "one_hot_train = [one_hot(word,vocab_size) for word in train_corpus]\n",
        "one_hot_test  = [one_hot(word,vocab_size) for word in test_corpus]"
      ]
    },
    {
      "cell_type": "code",
      "execution_count": null,
      "id": "7f5b6377",
      "metadata": {
        "execution": {
          "iopub.execute_input": "2022-07-02T03:18:51.630097Z",
          "iopub.status.busy": "2022-07-02T03:18:51.629547Z",
          "iopub.status.idle": "2022-07-02T03:18:51.635929Z",
          "shell.execute_reply": "2022-07-02T03:18:51.634994Z"
        },
        "papermill": {
          "duration": 0.070634,
          "end_time": "2022-07-02T03:18:51.638211",
          "exception": false,
          "start_time": "2022-07-02T03:18:51.567577",
          "status": "completed"
        },
        "tags": [],
        "colab": {
          "base_uri": "https://localhost:8080/"
        },
        "id": "7f5b6377",
        "outputId": "f3bb820b-2e60-498e-d9cf-c7962ec711c3"
      },
      "outputs": [
        {
          "output_type": "execute_result",
          "data": {
            "text/plain": [
              "[1870, 1865, 3639, 3270, 1580, 171, 4302]"
            ]
          },
          "metadata": {},
          "execution_count": 15
        }
      ],
      "source": [
        "one_hot_test[1]"
      ]
    },
    {
      "cell_type": "markdown",
      "id": "617f1d3e",
      "metadata": {
        "papermill": {
          "duration": 0.056958,
          "end_time": "2022-07-02T03:18:51.755317",
          "exception": false,
          "start_time": "2022-07-02T03:18:51.698359",
          "status": "completed"
        },
        "tags": [],
        "id": "617f1d3e"
      },
      "source": [
        "**Below code creates an embedding layer which applies \"pre\" padding to the one-hot encoded features with sentence length = 20. Padding is applied so that the length of every sequence in the dataset should be same.**"
      ]
    },
    {
      "cell_type": "code",
      "execution_count": null,
      "id": "ab73f361",
      "metadata": {
        "execution": {
          "iopub.execute_input": "2022-07-02T03:18:51.873327Z",
          "iopub.status.busy": "2022-07-02T03:18:51.872980Z",
          "iopub.status.idle": "2022-07-02T03:18:52.020768Z",
          "shell.execute_reply": "2022-07-02T03:18:52.019774Z"
        },
        "papermill": {
          "duration": 0.210555,
          "end_time": "2022-07-02T03:18:52.024079",
          "exception": false,
          "start_time": "2022-07-02T03:18:51.813524",
          "status": "completed"
        },
        "tags": [],
        "colab": {
          "base_uri": "https://localhost:8080/"
        },
        "id": "ab73f361",
        "outputId": "8fed90dc-905b-41af-8fbf-eac2131db226"
      },
      "outputs": [
        {
          "output_type": "stream",
          "name": "stdout",
          "text": [
            "[[   0    0    0 ... 3783  325  550]\n",
            " [   0    0    0 ... 2098 4481 2818]\n",
            " [   0    0    0 ...  867 4399 4525]\n",
            " ...\n",
            " [   0    0    0 ... 1632 4203 1499]\n",
            " [   0    0    0 ...  452   38 1925]\n",
            " [   0    0    0 ...  883 2190 3728]]\n"
          ]
        }
      ],
      "source": [
        "# Embedding Representation \n",
        "sent_length = 20\n",
        "embedd_docs_train = pad_sequences(one_hot_train,padding='pre',maxlen=sent_length)\n",
        "embedd_docs_test  = pad_sequences(one_hot_test,padding='pre',maxlen=sent_length)\n",
        "print(embedd_docs_train)"
      ]
    },
    {
      "cell_type": "code",
      "execution_count": null,
      "id": "a769fef3",
      "metadata": {
        "execution": {
          "iopub.execute_input": "2022-07-02T03:18:52.150020Z",
          "iopub.status.busy": "2022-07-02T03:18:52.149173Z",
          "iopub.status.idle": "2022-07-02T03:18:52.155816Z",
          "shell.execute_reply": "2022-07-02T03:18:52.154834Z"
        },
        "papermill": {
          "duration": 0.07068,
          "end_time": "2022-07-02T03:18:52.158212",
          "exception": false,
          "start_time": "2022-07-02T03:18:52.087532",
          "status": "completed"
        },
        "tags": [],
        "colab": {
          "base_uri": "https://localhost:8080/"
        },
        "id": "a769fef3",
        "outputId": "65d7812e-82c2-4253-8ca3-f825f68b027c"
      },
      "outputs": [
        {
          "output_type": "stream",
          "name": "stdout",
          "text": [
            "[[   0    0    0 ... 4019 2190  207]\n",
            " [   0    0    0 ... 1580  171 4302]\n",
            " [   0    0    0 ...  468 1124 3483]\n",
            " ...\n",
            " [   0    0    0 ... 4019 1639 3336]\n",
            " [   0    0    0 ... 1870 3704 2077]\n",
            " [   0    0    0 ... 4019 4346 2591]]\n"
          ]
        }
      ],
      "source": [
        "print(embedd_docs_test)"
      ]
    },
    {
      "cell_type": "code",
      "execution_count": null,
      "id": "78fa2221",
      "metadata": {
        "execution": {
          "iopub.execute_input": "2022-07-02T03:18:52.276518Z",
          "iopub.status.busy": "2022-07-02T03:18:52.275829Z",
          "iopub.status.idle": "2022-07-02T03:18:52.281663Z",
          "shell.execute_reply": "2022-07-02T03:18:52.280836Z"
        },
        "papermill": {
          "duration": 0.067285,
          "end_time": "2022-07-02T03:18:52.284146",
          "exception": false,
          "start_time": "2022-07-02T03:18:52.216861",
          "status": "completed"
        },
        "tags": [],
        "id": "78fa2221"
      },
      "outputs": [],
      "source": [
        "# Converting Embedding repr. to array\n",
        "x_final = np.array(embedd_docs_train)\n",
        "y_final = np.array(y)\n",
        "x_test_final = np.array(embedd_docs_test)"
      ]
    },
    {
      "cell_type": "code",
      "execution_count": null,
      "id": "57eaddf9",
      "metadata": {
        "execution": {
          "iopub.execute_input": "2022-07-02T03:18:52.400560Z",
          "iopub.status.busy": "2022-07-02T03:18:52.400004Z",
          "iopub.status.idle": "2022-07-02T03:18:52.408415Z",
          "shell.execute_reply": "2022-07-02T03:18:52.407018Z"
        },
        "papermill": {
          "duration": 0.070498,
          "end_time": "2022-07-02T03:18:52.410731",
          "exception": false,
          "start_time": "2022-07-02T03:18:52.340233",
          "status": "completed"
        },
        "tags": [],
        "colab": {
          "base_uri": "https://localhost:8080/"
        },
        "id": "57eaddf9",
        "outputId": "3ee63109-7477-4a00-d413-f51fff5b6be3"
      },
      "outputs": [
        {
          "output_type": "execute_result",
          "data": {
            "text/plain": [
              "((20800, 20), (20800,), (5200, 20))"
            ]
          },
          "metadata": {},
          "execution_count": 19
        }
      ],
      "source": [
        "# Dimensions of prev. array repr.\n",
        "x_final.shape,y_final.shape,x_test_final.shape"
      ]
    },
    {
      "cell_type": "markdown",
      "id": "d51cd4d1",
      "metadata": {
        "papermill": {
          "duration": 0.055934,
          "end_time": "2022-07-02T03:18:52.523326",
          "exception": false,
          "start_time": "2022-07-02T03:18:52.467392",
          "status": "completed"
        },
        "tags": [],
        "id": "d51cd4d1"
      },
      "source": [
        "**Dividing the dataset into training,validation and testing data (ratio: 80/10/10) using train_test_split technique.**"
      ]
    },
    {
      "cell_type": "code",
      "execution_count": null,
      "id": "67d17570",
      "metadata": {
        "execution": {
          "iopub.execute_input": "2022-07-02T03:18:52.637412Z",
          "iopub.status.busy": "2022-07-02T03:18:52.636821Z",
          "iopub.status.idle": "2022-07-02T03:18:52.668681Z",
          "shell.execute_reply": "2022-07-02T03:18:52.667432Z"
        },
        "papermill": {
          "duration": 0.091004,
          "end_time": "2022-07-02T03:18:52.671461",
          "exception": false,
          "start_time": "2022-07-02T03:18:52.580457",
          "status": "completed"
        },
        "tags": [],
        "id": "67d17570"
      },
      "outputs": [],
      "source": [
        "from sklearn.model_selection import train_test_split\n",
        "x_train, x_test, y_train, y_test = train_test_split(x_final, y_final, test_size=0.1, random_state=42, stratify = y_final)\n",
        "X_train, x_valid, Y_train, y_valid = train_test_split(x_train, y_train, test_size=0.1, random_state=42, stratify = y_train)\n",
        "x_test_final = x_test_final"
      ]
    },
    {
      "cell_type": "markdown",
      "id": "bb230b1b",
      "metadata": {
        "papermill": {
          "duration": 0.060098,
          "end_time": "2022-07-02T03:18:52.790637",
          "exception": false,
          "start_time": "2022-07-02T03:18:52.730539",
          "status": "completed"
        },
        "tags": [],
        "id": "bb230b1b"
      },
      "source": [
        "# Creating Models\n",
        "**In this phase, several models are created and evaluated against various metrics shown using classification report.**"
      ]
    },
    {
      "cell_type": "markdown",
      "id": "f3535528",
      "metadata": {
        "papermill": {
          "duration": 0.058934,
          "end_time": "2022-07-02T03:19:02.173092",
          "exception": false,
          "start_time": "2022-07-02T03:19:02.114158",
          "status": "completed"
        },
        "tags": [],
        "id": "f3535528"
      },
      "source": [
        "**7. LSTM**\n",
        "\n",
        "**In this model, 1.) The value for embedding feature vectors = 40 which are target feature vectors for the embedding layer. 2.) Single LSTM Layer with 100 nodes are used. 3.)Dense Layer with 1 neuron and sigmoid activation function is used since, this is a binary classification problem. 4) Dropout technique is used to avoid overfiiting and adam optimizer is used for optimizing the loss function.**"
      ]
    },
    {
      "cell_type": "code",
      "execution_count": null,
      "id": "da0e71c0",
      "metadata": {
        "execution": {
          "iopub.execute_input": "2022-07-02T03:19:02.293998Z",
          "iopub.status.busy": "2022-07-02T03:19:02.293675Z",
          "iopub.status.idle": "2022-07-02T03:19:02.757101Z",
          "shell.execute_reply": "2022-07-02T03:19:02.755917Z"
        },
        "papermill": {
          "duration": 0.527235,
          "end_time": "2022-07-02T03:19:02.759498",
          "exception": false,
          "start_time": "2022-07-02T03:19:02.232263",
          "status": "completed"
        },
        "tags": [],
        "colab": {
          "base_uri": "https://localhost:8080/"
        },
        "id": "da0e71c0",
        "outputId": "7987eadd-49f9-4d51-d317-74361e563888"
      },
      "outputs": [
        {
          "output_type": "stream",
          "name": "stdout",
          "text": [
            "Model: \"sequential\"\n",
            "_________________________________________________________________\n",
            " Layer (type)                Output Shape              Param #   \n",
            "=================================================================\n",
            " embedding (Embedding)       (None, 20, 40)            200000    \n",
            "                                                                 \n",
            " dropout (Dropout)           (None, 20, 40)            0         \n",
            "                                                                 \n",
            " lstm (LSTM)                 (None, 100)               56400     \n",
            "                                                                 \n",
            " dropout_1 (Dropout)         (None, 100)               0         \n",
            "                                                                 \n",
            " dense (Dense)               (None, 1)                 101       \n",
            "                                                                 \n",
            "=================================================================\n",
            "Total params: 256,501\n",
            "Trainable params: 256,501\n",
            "Non-trainable params: 0\n",
            "_________________________________________________________________\n",
            "None\n"
          ]
        }
      ],
      "source": [
        "# Creating the LSTM Model for prediction\n",
        "embedding_feature_vector = 40\n",
        "model = Sequential()\n",
        "model.add(Embedding(vocab_size,embedding_feature_vector,input_length=sent_length))\n",
        "model.add(Dropout(0.3))\n",
        "model.add(LSTM(100))\n",
        "model.add(Dropout(0.3))\n",
        "model.add(Dense(1,activation='sigmoid'))\n",
        "model.compile(loss='binary_crossentropy',optimizer='adam',metrics=['accuracy'])\n",
        "print(model.summary())"
      ]
    },
    {
      "cell_type": "code",
      "execution_count": null,
      "id": "56121a04",
      "metadata": {
        "execution": {
          "iopub.execute_input": "2022-07-02T03:19:02.882189Z",
          "iopub.status.busy": "2022-07-02T03:19:02.881859Z",
          "iopub.status.idle": "2022-07-02T03:21:26.962834Z",
          "shell.execute_reply": "2022-07-02T03:21:26.961962Z"
        },
        "papermill": {
          "duration": 144.765595,
          "end_time": "2022-07-02T03:21:27.585315",
          "exception": false,
          "start_time": "2022-07-02T03:19:02.819720",
          "status": "completed"
        },
        "tags": [],
        "colab": {
          "base_uri": "https://localhost:8080/"
        },
        "id": "56121a04",
        "outputId": "6a930c6f-7f76-4220-e246-fa88f7f6e8ca"
      },
      "outputs": [
        {
          "output_type": "stream",
          "name": "stdout",
          "text": [
            "Epoch 1/10\n",
            "264/264 [==============================] - 14s 43ms/step - loss: 0.2015 - accuracy: 0.9128 - val_loss: 0.0412 - val_accuracy: 0.9893\n",
            "Epoch 2/10\n",
            "264/264 [==============================] - 12s 45ms/step - loss: 0.0269 - accuracy: 0.9920 - val_loss: 0.0315 - val_accuracy: 0.9915\n",
            "Epoch 3/10\n",
            "264/264 [==============================] - 11s 41ms/step - loss: 0.0144 - accuracy: 0.9961 - val_loss: 0.0696 - val_accuracy: 0.9829\n",
            "Epoch 4/10\n",
            "264/264 [==============================] - 10s 37ms/step - loss: 0.0074 - accuracy: 0.9979 - val_loss: 0.0328 - val_accuracy: 0.9925\n",
            "Epoch 5/10\n",
            "264/264 [==============================] - 11s 41ms/step - loss: 0.0044 - accuracy: 0.9988 - val_loss: 0.0458 - val_accuracy: 0.9899\n",
            "Epoch 6/10\n",
            "264/264 [==============================] - 13s 48ms/step - loss: 0.0035 - accuracy: 0.9991 - val_loss: 0.0423 - val_accuracy: 0.9909\n",
            "Epoch 7/10\n",
            "264/264 [==============================] - 11s 42ms/step - loss: 0.0039 - accuracy: 0.9985 - val_loss: 0.0446 - val_accuracy: 0.9909\n",
            "Epoch 8/10\n",
            "264/264 [==============================] - 12s 44ms/step - loss: 0.0031 - accuracy: 0.9993 - val_loss: 0.0530 - val_accuracy: 0.9872\n",
            "Epoch 9/10\n",
            "264/264 [==============================] - 13s 48ms/step - loss: 8.9838e-04 - accuracy: 0.9998 - val_loss: 0.0495 - val_accuracy: 0.9904\n",
            "Epoch 10/10\n",
            "264/264 [==============================] - 10s 37ms/step - loss: 8.4498e-04 - accuracy: 0.9997 - val_loss: 0.0551 - val_accuracy: 0.9888\n"
          ]
        },
        {
          "output_type": "execute_result",
          "data": {
            "text/plain": [
              "<keras.callbacks.History at 0x7f1ec12be640>"
            ]
          },
          "metadata": {},
          "execution_count": 28
        }
      ],
      "source": [
        "# Training the model\n",
        "model.fit(X_train,Y_train,validation_data=(x_valid,y_valid),epochs=10,batch_size=64)"
      ]
    },
    {
      "cell_type": "code",
      "execution_count": null,
      "id": "c41a5d1c",
      "metadata": {
        "execution": {
          "iopub.execute_input": "2022-07-02T03:21:28.833523Z",
          "iopub.status.busy": "2022-07-02T03:21:28.833236Z",
          "iopub.status.idle": "2022-07-02T03:21:29.803415Z",
          "shell.execute_reply": "2022-07-02T03:21:29.802045Z"
        },
        "papermill": {
          "duration": 1.595806,
          "end_time": "2022-07-02T03:21:29.806987",
          "exception": false,
          "start_time": "2022-07-02T03:21:28.211181",
          "status": "completed"
        },
        "tags": [],
        "colab": {
          "base_uri": "https://localhost:8080/"
        },
        "id": "c41a5d1c",
        "outputId": "3a837fb9-c1cc-4074-92b4-abee8e243bc2"
      },
      "outputs": [
        {
          "output_type": "stream",
          "name": "stdout",
          "text": [
            "65/65 [==============================] - 1s 9ms/step\n",
            "              precision    recall  f1-score   support\n",
            "\n",
            "           0       0.50      1.00      0.67      1039\n",
            "           1       0.00      0.00      0.00      1041\n",
            "\n",
            "    accuracy                           0.50      2080\n",
            "   macro avg       0.25      0.50      0.33      2080\n",
            "weighted avg       0.25      0.50      0.33      2080\n",
            "\n"
          ]
        },
        {
          "output_type": "stream",
          "name": "stderr",
          "text": [
            "/usr/local/lib/python3.9/dist-packages/sklearn/metrics/_classification.py:1344: UndefinedMetricWarning: Precision and F-score are ill-defined and being set to 0.0 in labels with no predicted samples. Use `zero_division` parameter to control this behavior.\n",
            "  _warn_prf(average, modifier, msg_start, len(result))\n",
            "/usr/local/lib/python3.9/dist-packages/sklearn/metrics/_classification.py:1344: UndefinedMetricWarning: Precision and F-score are ill-defined and being set to 0.0 in labels with no predicted samples. Use `zero_division` parameter to control this behavior.\n",
            "  _warn_prf(average, modifier, msg_start, len(result))\n",
            "/usr/local/lib/python3.9/dist-packages/sklearn/metrics/_classification.py:1344: UndefinedMetricWarning: Precision and F-score are ill-defined and being set to 0.0 in labels with no predicted samples. Use `zero_division` parameter to control this behavior.\n",
            "  _warn_prf(average, modifier, msg_start, len(result))\n"
          ]
        }
      ],
      "source": [
        "predict_x = model.predict(x_test)\n",
        "predictions = np.argmax(predict_x,axis=1)\n",
        "cr = classification_report(y_test,predictions)\n",
        "print(cr)"
      ]
    },
    {
      "cell_type": "markdown",
      "id": "bd2eaeca",
      "metadata": {
        "papermill": {
          "duration": 0.621352,
          "end_time": "2022-07-02T03:21:36.148911",
          "exception": false,
          "start_time": "2022-07-02T03:21:35.527559",
          "status": "completed"
        },
        "tags": [],
        "id": "bd2eaeca"
      },
      "source": [
        "**Predictions on Testing Data**"
      ]
    },
    {
      "cell_type": "code",
      "execution_count": null,
      "id": "63adad59",
      "metadata": {
        "execution": {
          "iopub.execute_input": "2022-07-02T03:21:37.393509Z",
          "iopub.status.busy": "2022-07-02T03:21:37.393241Z",
          "iopub.status.idle": "2022-07-02T03:21:39.983383Z",
          "shell.execute_reply": "2022-07-02T03:21:39.982213Z"
        },
        "papermill": {
          "duration": 3.211564,
          "end_time": "2022-07-02T03:21:39.986119",
          "exception": false,
          "start_time": "2022-07-02T03:21:36.774555",
          "status": "completed"
        },
        "tags": [],
        "colab": {
          "base_uri": "https://localhost:8080/"
        },
        "id": "63adad59",
        "outputId": "690adb1e-b13d-44f6-dcef-107ce92f3656"
      },
      "outputs": [
        {
          "output_type": "stream",
          "name": "stdout",
          "text": [
            "163/163 [==============================] - 2s 8ms/step\n"
          ]
        }
      ],
      "source": [
        "# Making Predictions on test data\n",
        "predictions_test = pd.DataFrame(model.predict(x_test_final))\n",
        "test_id = pd.DataFrame(test[\"id\"])\n",
        "submission = pd.concat([test_id,predictions_test],axis=1)\n",
        "submission.columns = [\"id\",\"label\"]\n",
        "submission.to_csv(\"Submission.csv\",index=False)"
      ]
    },
    {
      "cell_type": "code",
      "execution_count": null,
      "id": "64d5a9b4",
      "metadata": {
        "execution": {
          "iopub.execute_input": "2022-07-02T03:21:41.244813Z",
          "iopub.status.busy": "2022-07-02T03:21:41.244520Z",
          "iopub.status.idle": "2022-07-02T03:21:41.253354Z",
          "shell.execute_reply": "2022-07-02T03:21:41.252501Z"
        },
        "papermill": {
          "duration": 0.644996,
          "end_time": "2022-07-02T03:21:41.256193",
          "exception": false,
          "start_time": "2022-07-02T03:21:40.611197",
          "status": "completed"
        },
        "tags": [],
        "colab": {
          "base_uri": "https://localhost:8080/",
          "height": 206
        },
        "id": "64d5a9b4",
        "outputId": "7b2b8c9f-c2c7-4ab9-b9a8-a2a2210a46d3"
      },
      "outputs": [
        {
          "output_type": "execute_result",
          "data": {
            "text/plain": [
              "      id         label\n",
              "0  20800  9.961695e-09\n",
              "1  20801  9.999953e-01\n",
              "2  20802  9.999763e-01\n",
              "3  20803  3.829291e-08\n",
              "4  20804  9.999993e-01"
            ],
            "text/html": [
              "\n",
              "  <div id=\"df-66be291f-c9d3-4801-b37f-130e350fabe5\">\n",
              "    <div class=\"colab-df-container\">\n",
              "      <div>\n",
              "<style scoped>\n",
              "    .dataframe tbody tr th:only-of-type {\n",
              "        vertical-align: middle;\n",
              "    }\n",
              "\n",
              "    .dataframe tbody tr th {\n",
              "        vertical-align: top;\n",
              "    }\n",
              "\n",
              "    .dataframe thead th {\n",
              "        text-align: right;\n",
              "    }\n",
              "</style>\n",
              "<table border=\"1\" class=\"dataframe\">\n",
              "  <thead>\n",
              "    <tr style=\"text-align: right;\">\n",
              "      <th></th>\n",
              "      <th>id</th>\n",
              "      <th>label</th>\n",
              "    </tr>\n",
              "  </thead>\n",
              "  <tbody>\n",
              "    <tr>\n",
              "      <th>0</th>\n",
              "      <td>20800</td>\n",
              "      <td>9.961695e-09</td>\n",
              "    </tr>\n",
              "    <tr>\n",
              "      <th>1</th>\n",
              "      <td>20801</td>\n",
              "      <td>9.999953e-01</td>\n",
              "    </tr>\n",
              "    <tr>\n",
              "      <th>2</th>\n",
              "      <td>20802</td>\n",
              "      <td>9.999763e-01</td>\n",
              "    </tr>\n",
              "    <tr>\n",
              "      <th>3</th>\n",
              "      <td>20803</td>\n",
              "      <td>3.829291e-08</td>\n",
              "    </tr>\n",
              "    <tr>\n",
              "      <th>4</th>\n",
              "      <td>20804</td>\n",
              "      <td>9.999993e-01</td>\n",
              "    </tr>\n",
              "  </tbody>\n",
              "</table>\n",
              "</div>\n",
              "      <button class=\"colab-df-convert\" onclick=\"convertToInteractive('df-66be291f-c9d3-4801-b37f-130e350fabe5')\"\n",
              "              title=\"Convert this dataframe to an interactive table.\"\n",
              "              style=\"display:none;\">\n",
              "        \n",
              "  <svg xmlns=\"http://www.w3.org/2000/svg\" height=\"24px\"viewBox=\"0 0 24 24\"\n",
              "       width=\"24px\">\n",
              "    <path d=\"M0 0h24v24H0V0z\" fill=\"none\"/>\n",
              "    <path d=\"M18.56 5.44l.94 2.06.94-2.06 2.06-.94-2.06-.94-.94-2.06-.94 2.06-2.06.94zm-11 1L8.5 8.5l.94-2.06 2.06-.94-2.06-.94L8.5 2.5l-.94 2.06-2.06.94zm10 10l.94 2.06.94-2.06 2.06-.94-2.06-.94-.94-2.06-.94 2.06-2.06.94z\"/><path d=\"M17.41 7.96l-1.37-1.37c-.4-.4-.92-.59-1.43-.59-.52 0-1.04.2-1.43.59L10.3 9.45l-7.72 7.72c-.78.78-.78 2.05 0 2.83L4 21.41c.39.39.9.59 1.41.59.51 0 1.02-.2 1.41-.59l7.78-7.78 2.81-2.81c.8-.78.8-2.07 0-2.86zM5.41 20L4 18.59l7.72-7.72 1.47 1.35L5.41 20z\"/>\n",
              "  </svg>\n",
              "      </button>\n",
              "      \n",
              "  <style>\n",
              "    .colab-df-container {\n",
              "      display:flex;\n",
              "      flex-wrap:wrap;\n",
              "      gap: 12px;\n",
              "    }\n",
              "\n",
              "    .colab-df-convert {\n",
              "      background-color: #E8F0FE;\n",
              "      border: none;\n",
              "      border-radius: 50%;\n",
              "      cursor: pointer;\n",
              "      display: none;\n",
              "      fill: #1967D2;\n",
              "      height: 32px;\n",
              "      padding: 0 0 0 0;\n",
              "      width: 32px;\n",
              "    }\n",
              "\n",
              "    .colab-df-convert:hover {\n",
              "      background-color: #E2EBFA;\n",
              "      box-shadow: 0px 1px 2px rgba(60, 64, 67, 0.3), 0px 1px 3px 1px rgba(60, 64, 67, 0.15);\n",
              "      fill: #174EA6;\n",
              "    }\n",
              "\n",
              "    [theme=dark] .colab-df-convert {\n",
              "      background-color: #3B4455;\n",
              "      fill: #D2E3FC;\n",
              "    }\n",
              "\n",
              "    [theme=dark] .colab-df-convert:hover {\n",
              "      background-color: #434B5C;\n",
              "      box-shadow: 0px 1px 3px 1px rgba(0, 0, 0, 0.15);\n",
              "      filter: drop-shadow(0px 1px 2px rgba(0, 0, 0, 0.3));\n",
              "      fill: #FFFFFF;\n",
              "    }\n",
              "  </style>\n",
              "\n",
              "      <script>\n",
              "        const buttonEl =\n",
              "          document.querySelector('#df-66be291f-c9d3-4801-b37f-130e350fabe5 button.colab-df-convert');\n",
              "        buttonEl.style.display =\n",
              "          google.colab.kernel.accessAllowed ? 'block' : 'none';\n",
              "\n",
              "        async function convertToInteractive(key) {\n",
              "          const element = document.querySelector('#df-66be291f-c9d3-4801-b37f-130e350fabe5');\n",
              "          const dataTable =\n",
              "            await google.colab.kernel.invokeFunction('convertToInteractive',\n",
              "                                                     [key], {});\n",
              "          if (!dataTable) return;\n",
              "\n",
              "          const docLinkHtml = 'Like what you see? Visit the ' +\n",
              "            '<a target=\"_blank\" href=https://colab.research.google.com/notebooks/data_table.ipynb>data table notebook</a>'\n",
              "            + ' to learn more about interactive tables.';\n",
              "          element.innerHTML = '';\n",
              "          dataTable['output_type'] = 'display_data';\n",
              "          await google.colab.output.renderOutput(dataTable, element);\n",
              "          const docLink = document.createElement('div');\n",
              "          docLink.innerHTML = docLinkHtml;\n",
              "          element.appendChild(docLink);\n",
              "        }\n",
              "      </script>\n",
              "    </div>\n",
              "  </div>\n",
              "  "
            ]
          },
          "metadata": {},
          "execution_count": 36
        }
      ],
      "source": [
        "submission.head()"
      ]
    },
    {
      "cell_type": "code",
      "execution_count": null,
      "id": "ed74f567",
      "metadata": {
        "papermill": {
          "duration": 0.637726,
          "end_time": "2022-07-02T03:21:42.554945",
          "exception": false,
          "start_time": "2022-07-02T03:21:41.917219",
          "status": "completed"
        },
        "tags": [],
        "colab": {
          "base_uri": "https://localhost:8080/",
          "height": 206
        },
        "id": "ed74f567",
        "outputId": "f5ef84c2-ccdf-4468-993b-7408a12d3f21"
      },
      "outputs": [
        {
          "output_type": "execute_result",
          "data": {
            "text/plain": [
              "      id         label\n",
              "0  20800  9.961696e-09\n",
              "1  20801  9.999953e-01\n",
              "2  20802  9.999763e-01\n",
              "3  20803  3.829291e-08\n",
              "4  20804  9.999993e-01"
            ],
            "text/html": [
              "\n",
              "  <div id=\"df-780d0b99-7924-4991-b155-dd1bc03f74e9\">\n",
              "    <div class=\"colab-df-container\">\n",
              "      <div>\n",
              "<style scoped>\n",
              "    .dataframe tbody tr th:only-of-type {\n",
              "        vertical-align: middle;\n",
              "    }\n",
              "\n",
              "    .dataframe tbody tr th {\n",
              "        vertical-align: top;\n",
              "    }\n",
              "\n",
              "    .dataframe thead th {\n",
              "        text-align: right;\n",
              "    }\n",
              "</style>\n",
              "<table border=\"1\" class=\"dataframe\">\n",
              "  <thead>\n",
              "    <tr style=\"text-align: right;\">\n",
              "      <th></th>\n",
              "      <th>id</th>\n",
              "      <th>label</th>\n",
              "    </tr>\n",
              "  </thead>\n",
              "  <tbody>\n",
              "    <tr>\n",
              "      <th>0</th>\n",
              "      <td>20800</td>\n",
              "      <td>9.961696e-09</td>\n",
              "    </tr>\n",
              "    <tr>\n",
              "      <th>1</th>\n",
              "      <td>20801</td>\n",
              "      <td>9.999953e-01</td>\n",
              "    </tr>\n",
              "    <tr>\n",
              "      <th>2</th>\n",
              "      <td>20802</td>\n",
              "      <td>9.999763e-01</td>\n",
              "    </tr>\n",
              "    <tr>\n",
              "      <th>3</th>\n",
              "      <td>20803</td>\n",
              "      <td>3.829291e-08</td>\n",
              "    </tr>\n",
              "    <tr>\n",
              "      <th>4</th>\n",
              "      <td>20804</td>\n",
              "      <td>9.999993e-01</td>\n",
              "    </tr>\n",
              "  </tbody>\n",
              "</table>\n",
              "</div>\n",
              "      <button class=\"colab-df-convert\" onclick=\"convertToInteractive('df-780d0b99-7924-4991-b155-dd1bc03f74e9')\"\n",
              "              title=\"Convert this dataframe to an interactive table.\"\n",
              "              style=\"display:none;\">\n",
              "        \n",
              "  <svg xmlns=\"http://www.w3.org/2000/svg\" height=\"24px\"viewBox=\"0 0 24 24\"\n",
              "       width=\"24px\">\n",
              "    <path d=\"M0 0h24v24H0V0z\" fill=\"none\"/>\n",
              "    <path d=\"M18.56 5.44l.94 2.06.94-2.06 2.06-.94-2.06-.94-.94-2.06-.94 2.06-2.06.94zm-11 1L8.5 8.5l.94-2.06 2.06-.94-2.06-.94L8.5 2.5l-.94 2.06-2.06.94zm10 10l.94 2.06.94-2.06 2.06-.94-2.06-.94-.94-2.06-.94 2.06-2.06.94z\"/><path d=\"M17.41 7.96l-1.37-1.37c-.4-.4-.92-.59-1.43-.59-.52 0-1.04.2-1.43.59L10.3 9.45l-7.72 7.72c-.78.78-.78 2.05 0 2.83L4 21.41c.39.39.9.59 1.41.59.51 0 1.02-.2 1.41-.59l7.78-7.78 2.81-2.81c.8-.78.8-2.07 0-2.86zM5.41 20L4 18.59l7.72-7.72 1.47 1.35L5.41 20z\"/>\n",
              "  </svg>\n",
              "      </button>\n",
              "      \n",
              "  <style>\n",
              "    .colab-df-container {\n",
              "      display:flex;\n",
              "      flex-wrap:wrap;\n",
              "      gap: 12px;\n",
              "    }\n",
              "\n",
              "    .colab-df-convert {\n",
              "      background-color: #E8F0FE;\n",
              "      border: none;\n",
              "      border-radius: 50%;\n",
              "      cursor: pointer;\n",
              "      display: none;\n",
              "      fill: #1967D2;\n",
              "      height: 32px;\n",
              "      padding: 0 0 0 0;\n",
              "      width: 32px;\n",
              "    }\n",
              "\n",
              "    .colab-df-convert:hover {\n",
              "      background-color: #E2EBFA;\n",
              "      box-shadow: 0px 1px 2px rgba(60, 64, 67, 0.3), 0px 1px 3px 1px rgba(60, 64, 67, 0.15);\n",
              "      fill: #174EA6;\n",
              "    }\n",
              "\n",
              "    [theme=dark] .colab-df-convert {\n",
              "      background-color: #3B4455;\n",
              "      fill: #D2E3FC;\n",
              "    }\n",
              "\n",
              "    [theme=dark] .colab-df-convert:hover {\n",
              "      background-color: #434B5C;\n",
              "      box-shadow: 0px 1px 3px 1px rgba(0, 0, 0, 0.15);\n",
              "      filter: drop-shadow(0px 1px 2px rgba(0, 0, 0, 0.3));\n",
              "      fill: #FFFFFF;\n",
              "    }\n",
              "  </style>\n",
              "\n",
              "      <script>\n",
              "        const buttonEl =\n",
              "          document.querySelector('#df-780d0b99-7924-4991-b155-dd1bc03f74e9 button.colab-df-convert');\n",
              "        buttonEl.style.display =\n",
              "          google.colab.kernel.accessAllowed ? 'block' : 'none';\n",
              "\n",
              "        async function convertToInteractive(key) {\n",
              "          const element = document.querySelector('#df-780d0b99-7924-4991-b155-dd1bc03f74e9');\n",
              "          const dataTable =\n",
              "            await google.colab.kernel.invokeFunction('convertToInteractive',\n",
              "                                                     [key], {});\n",
              "          if (!dataTable) return;\n",
              "\n",
              "          const docLinkHtml = 'Like what you see? Visit the ' +\n",
              "            '<a target=\"_blank\" href=https://colab.research.google.com/notebooks/data_table.ipynb>data table notebook</a>'\n",
              "            + ' to learn more about interactive tables.';\n",
              "          element.innerHTML = '';\n",
              "          dataTable['output_type'] = 'display_data';\n",
              "          await google.colab.output.renderOutput(dataTable, element);\n",
              "          const docLink = document.createElement('div');\n",
              "          docLink.innerHTML = docLinkHtml;\n",
              "          element.appendChild(docLink);\n",
              "        }\n",
              "      </script>\n",
              "    </div>\n",
              "  </div>\n",
              "  "
            ]
          },
          "metadata": {},
          "execution_count": 37
        }
      ],
      "source": [
        "feedback = pd.read_csv(\"Submission.csv\")\n",
        "feedback.head()"
      ]
    }
  ],
  "metadata": {
    "kernelspec": {
      "display_name": "Python 3",
      "language": "python",
      "name": "python3"
    },
    "language_info": {
      "codemirror_mode": {
        "name": "ipython",
        "version": 3
      },
      "file_extension": ".py",
      "mimetype": "text/x-python",
      "name": "python",
      "nbconvert_exporter": "python",
      "pygments_lexer": "ipython3",
      "version": "3.7.12"
    },
    "papermill": {
      "default_parameters": {},
      "duration": 290.133422,
      "end_time": "2022-07-02T03:21:46.626078",
      "environment_variables": {},
      "exception": null,
      "input_path": "__notebook__.ipynb",
      "output_path": "__notebook__.ipynb",
      "parameters": {},
      "start_time": "2022-07-02T03:16:56.492656",
      "version": "2.3.4"
    },
    "colab": {
      "provenance": [],
      "include_colab_link": true
    }
  },
  "nbformat": 4,
  "nbformat_minor": 5
}